{
 "cells": [
  {
   "cell_type": "markdown",
   "metadata": {},
   "source": [
    "# La base de la base"
   ]
  },
  {
   "cell_type": "markdown",
   "metadata": {},
   "source": [
    "## Créer et run des programmes"
   ]
  },
  {
   "cell_type": "markdown",
   "metadata": {},
   "source": [
    "**`Exercice`**: \n",
    "- créer un fichier script intitulé \"hello.py\" écrire \"print(\"Hello from my first script\") le lancer depuis la console puis depuis le terminal\n",
    "- créer un notebook intitulé \"hello.ipynb\" écrire \"print(\"Hello from my first notebook\") dans une cellule puis la lancer"
   ]
  },
  {
   "cell_type": "markdown",
   "metadata": {},
   "source": [
    "## Découvrir les commentaires"
   ]
  },
  {
   "cell_type": "markdown",
   "metadata": {},
   "source": [
    "Ceci est un markdonw"
   ]
  },
  {
   "cell_type": "code",
   "execution_count": 1,
   "metadata": {},
   "outputs": [],
   "source": [
    "# commentaire\n",
    "# ligne\n",
    "# à ligne\n",
    "\n",
    "\"\"\" Commentaire \n",
    "multi ligne\"\"\""
   ]
  },
  {
   "cell_type": "markdown",
   "metadata": {},
   "source": [
    "**`Exercice`**: \n",
    "- copier coller les règles de la pep 8 dans votre fichier script en tant que commentaire multiligne et ligne à ligne (essayez les raccourcis et relancer le script)\n",
    "- copier coller les règles de la pep 8 dans une cellule code, faite le meme exercice qui précedement puis copier coller dans un cellule markdown et faire une mise en page correcte"
   ]
  },
  {
   "cell_type": "markdown",
   "metadata": {},
   "source": [
    "# <font color=\"red\"> Règles Pep8 </font>\n",
    "\n",
    "- Pep 8 sur les commentaires.\n",
    "   - **Ecrivez** des phrases complètes, ponctuées et compréhensibles.\n",
    "- Le `commentaire` doit être cohérent avec le code.\n",
    "- Il doit suivre la même indentation que le code qu'il commente.\n",
    "- Evitez d'enfoncer des portes ouvertes : ne décrivez pas le code, expliquez plutôt à quoi il sert.\n",
    "- Il doit être en anglais."
   ]
  }
 ],
 "metadata": {
  "interpreter": {
   "hash": "4822798685b95d90cac6b9eac85a216cd3011e561666c6311e8088bbadca8e0f"
  },
  "kernelspec": {
   "display_name": "Python 3.8.6 64-bit ('3.8.6': pyenv)",
   "name": "python3"
  },
  "language_info": {
   "codemirror_mode": {
    "name": "ipython",
    "version": 3
   },
   "file_extension": ".py",
   "mimetype": "text/x-python",
   "name": "python",
   "nbconvert_exporter": "python",
   "pygments_lexer": "ipython3",
   "version": "3.8.6"
  },
  "orig_nbformat": 4
 },
 "nbformat": 4,
 "nbformat_minor": 2
}
