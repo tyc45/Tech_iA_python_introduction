{
 "cells": [
  {
   "cell_type": "markdown",
   "metadata": {},
   "source": [
    "# Les variables et les types de variables"
   ]
  },
  {
   "cell_type": "markdown",
   "metadata": {},
   "source": [
    "## Les variables"
   ]
  },
  {
   "cell_type": "markdown",
   "metadata": {},
   "source": [
    "### Déclarer une variable"
   ]
  },
  {
   "cell_type": "code",
   "execution_count": 64,
   "metadata": {},
   "outputs": [],
   "source": [
    "formateur = \"Charles\"\n",
    "\n",
    "nombre_apprenants = 12\n",
    "\n",
    "# double déclaration\n",
    "apprenant = eleve = \"Antoine\"\n"
   ]
  },
  {
   "cell_type": "markdown",
   "metadata": {},
   "source": [
    "### Afficher une variable"
   ]
  },
  {
   "cell_type": "code",
   "execution_count": 65,
   "metadata": {},
   "outputs": [
    {
     "name": "stdout",
     "output_type": "stream",
     "text": [
      "Charles\n",
      "nombre_apprenants:  12\n",
      "apprenant:  Antoine\n",
      "eleve:  Antoine\n"
     ]
    }
   ],
   "source": [
    "print(formateur)\n",
    "print(\"nombre_apprenants: \", nombre_apprenants)\n",
    "print(\"apprenant: \", apprenant)\n",
    "print(\"eleve: \", eleve)"
   ]
  },
  {
   "cell_type": "markdown",
   "metadata": {},
   "source": [
    "### Modifier une variable"
   ]
  },
  {
   "cell_type": "code",
   "execution_count": 66,
   "metadata": {},
   "outputs": [
    {
     "name": "stdout",
     "output_type": "stream",
     "text": [
      "nombre_apprenants:  14\n",
      "apprenant:  Antoine\n",
      "eleve:  Denis\n"
     ]
    }
   ],
   "source": [
    "eleve = \"Denis\"\n",
    "nombre_apprenants = nombre_apprenants + 2\n",
    "\n",
    "print(\"nombre_apprenants: \", nombre_apprenants)\n",
    "print(\"apprenant: \", apprenant)\n",
    "print(\"eleve: \", eleve)"
   ]
  },
  {
   "cell_type": "code",
   "execution_count": 67,
   "metadata": {},
   "outputs": [
    {
     "name": "stdout",
     "output_type": "stream",
     "text": [
      "apprenant:  Denis\n",
      "eleve:  Antoine\n"
     ]
    }
   ],
   "source": [
    "#permutation\n",
    "eleve,apprenant = apprenant,eleve\n",
    "\n",
    "print(\"apprenant: \", apprenant)\n",
    "print(\"eleve: \", eleve)"
   ]
  },
  {
   "cell_type": "markdown",
   "metadata": {},
   "source": [
    "### Supprimer une variable"
   ]
  },
  {
   "cell_type": "code",
   "execution_count": 68,
   "metadata": {},
   "outputs": [],
   "source": [
    "del apprenant"
   ]
  },
  {
   "cell_type": "markdown",
   "metadata": {},
   "source": [
    "### Nommer une variable avec la Pep-8"
   ]
  },
  {
   "cell_type": "markdown",
   "metadata": {},
   "source": [
    "- Mettez un espace avant et après le signe égal\n",
    "   - apprenant = \"Charles\" et non apprennant=\"Charles\"\n",
    "- Utilisez des noms descriptifs dans votre code.\n",
    "   - exemple: Au lieu de  quantite  (ou pire,qte), ajoutez des détails :quantite_en_stock,solde_actuel, etc.\n",
    "- Utilisez des mots complets.\n",
    "   - exemple,revenu_annuelest plus clair querev_annuel.\n",
    "- Suivez une convention d’appellation commune.\n",
    "   - le snake case : des noms composés de plusieurs mots séparés par des tirets bas(_)\n",
    "      - exemple nombre_de_chats,  reponse_finale  ,  le_meilleur_developpeur_python_du_monde, etc.\n",
    "   - commencez avec une lettre minuscule (surtout pas par un nombre)\n",
    "   - Utilisez uniquement des caractères alphanumériques et des tirets bas... et donc pas d'accents !\n",
    "- N’oubliez pas que les noms de variables sont sensibles à la casse.\n",
    "   - age,  Age  et  AGE  sont trois variables différentes. "
   ]
  },
  {
   "cell_type": "markdown",
   "metadata": {},
   "source": [
    "### S'exercer à manipuler les variables"
   ]
  },
  {
   "cell_type": "markdown",
   "metadata": {},
   "source": [
    "**`Exercice`**: créez l'état civil de votre voisin \n",
    "- déclarer les variables nom, prénom et deuxième prénom puis une variable nom complet à l'aide des trois précédentes\n",
    "- déclarer les variables année actuelle et date de naissance puis créer la variable date de naissance à l'aide des deux pécédentes\n",
    "- remplacer la valeur de la variable nom par celle de nom complet puis supprimer la variable nom complet"
   ]
  },
  {
   "cell_type": "markdown",
   "metadata": {},
   "source": [
    "## Les types primitifs de variable"
   ]
  },
  {
   "cell_type": "code",
   "execution_count": 69,
   "metadata": {},
   "outputs": [
    {
     "name": "stdout",
     "output_type": "stream",
     "text": [
      "<class 'int'> 7\n"
     ]
    }
   ],
   "source": [
    "# Les \"intergers\", ou nombres entiers en français\n",
    "nombre_apprentants = 7\n",
    "print(type(nombre_apprentants),nombre_apprentants)"
   ]
  },
  {
   "cell_type": "code",
   "execution_count": 70,
   "metadata": {},
   "outputs": [
    {
     "name": "stdout",
     "output_type": "stream",
     "text": [
      "<class 'float'> 25.7\n"
     ]
    }
   ],
   "source": [
    "# Les \"floats\", ou nombres à virgule en français\n",
    "age_moyen_promo = 25.7\n",
    "print(type(age_moyen_promo), str(age_moyen_promo))"
   ]
  },
  {
   "cell_type": "code",
   "execution_count": 71,
   "metadata": {},
   "outputs": [
    {
     "name": "stdout",
     "output_type": "stream",
     "text": [
      "La variable apprennant est de type <class 'str'> et prend comme valeur Charles\n"
     ]
    }
   ],
   "source": [
    "# Les \"strings\" (str), ou chaines de caractères en français\n",
    "apprenant = \"Charles\"\n",
    "print(\"La variable apprennant est de type \" + str(type(apprenant))+ \" et prend comme valeur \" + str(apprenant))\n",
    "\n",
    "# /!\\ La méthode type() renvoie un objet type et il n'existe pas de toString en python, il faut utiliser la méthode str() pour convertir en string\n",
    "# et permettre la concaténation"
   ]
  },
  {
   "cell_type": "code",
   "execution_count": 72,
   "metadata": {},
   "outputs": [
    {
     "name": "stdout",
     "output_type": "stream",
     "text": [
      "La variable est_ce_que_1_plus_1_egale_2 est de type <class 'bool'> et prend comme valeur True\n"
     ]
    }
   ],
   "source": [
    "# Les \"Booleen\" (bool), ou booléen en français, c'est à dire vrai ou faux\n",
    "est_ce_que_1_plus_1_egale_2 = 1 + 1 == 2\n",
    "\n",
    "print(\"La variable est_ce_que_1_plus_1_egale_2 est de type {} et prend comme valeur {}\".format(type(est_ce_que_1_plus_1_egale_2),est_ce_que_1_plus_1_egale_2))"
   ]
  },
  {
   "cell_type": "markdown",
   "metadata": {},
   "source": [
    "## Les integers et les floats en détail "
   ]
  },
  {
   "cell_type": "markdown",
   "metadata": {},
   "source": [
    "### Opérations sur les integers et les floats"
   ]
  },
  {
   "cell_type": "code",
   "execution_count": 73,
   "metadata": {},
   "outputs": [],
   "source": [
    "x = 12.5\n",
    "y = 3\n",
    "\n",
    "#la somme de x et y (x plus y).\n",
    "somme = x + y   \n",
    "\n",
    "#la différence entre x et y \n",
    "difference = x - y \n",
    "\n",
    "#le produit de x et y\n",
    "produit = x * y \n",
    "\n",
    "# le quotient de x et y (x divisé par y).\n",
    "quotient = x / y \n",
    "\n",
    "# le quotient de x et y sans reste.\n",
    "quotient_sans_reste = x // y \n",
    "\n",
    "# le reste de x divisé par y.\n",
    "reste = x % y \n",
    "\n",
    "# x à la puissance y\n",
    "puissance = x**y"
   ]
  },
  {
   "cell_type": "markdown",
   "metadata": {},
   "source": [
    "**`Exercice 1`**: Quelle est la valeur et le type de \"truc\"? (de tête)"
   ]
  },
  {
   "cell_type": "code",
<<<<<<< HEAD
   "execution_count": 2,
   "metadata": {},
   "outputs": [
    {
     "name": "stdout",
     "output_type": "stream",
     "text": [
      "<class 'str'> True\n"
     ]
    }
   ],
=======
   "execution_count": 74,
   "metadata": {},
   "outputs": [],
>>>>>>> 7eb7fea32aad2a6eb3401c6135ebfe1ffbc5ab7d
   "source": [
    "x = 24\n",
    "y = 4.5\n",
    "\n",
<<<<<<< HEAD
    "truc = str(x == (( x // y ) * y) + (x % y)) \n",
    "\n",
    "print(type(truc),truc)"
=======
    "truc = str(x == (( x // y ) * y) + (x % y)) "
>>>>>>> 7eb7fea32aad2a6eb3401c6135ebfe1ffbc5ab7d
   ]
  },
  {
   "cell_type": "markdown",
   "metadata": {},
   "source": [
    "**`Exercice 2`**: Add parentheses to the following expression so that it evaluates to 1."
   ]
  },
  {
   "cell_type": "code",
<<<<<<< HEAD
   "execution_count": 3,
   "metadata": {},
   "outputs": [
    {
     "name": "stdout",
     "output_type": "stream",
     "text": [
      "1\n"
     ]
    }
   ],
   "source": [
    "print((5 - 3) // 2)"
=======
   "execution_count": null,
   "metadata": {},
   "outputs": [],
   "source": [
    "print(5 - 3 // 2)"
>>>>>>> 7eb7fea32aad2a6eb3401c6135ebfe1ffbc5ab7d
   ]
  },
  {
   "cell_type": "markdown",
   "metadata": {},
   "source": [
<<<<<<< HEAD
    "**`Exercice 3`**: Add parentheses to the following expression so that it evaluates to 0."
=======
    "**`Exercice 3`**: Add parentheses to the following expression so that it evaluates to 1."
>>>>>>> 7eb7fea32aad2a6eb3401c6135ebfe1ffbc5ab7d
   ]
  },
  {
   "cell_type": "code",
<<<<<<< HEAD
   "execution_count": 9,
   "metadata": {},
   "outputs": [
    {
     "name": "stdout",
     "output_type": "stream",
     "text": [
      "0\n"
     ]
    }
   ],
   "source": [
    "print(8 - 3 * 2 - (1 + 1))"
=======
   "execution_count": null,
   "metadata": {},
   "outputs": [],
   "source": [
    "print(8 - 3 * 2 - 1 + 1)"
>>>>>>> 7eb7fea32aad2a6eb3401c6135ebfe1ffbc5ab7d
   ]
  },
  {
   "cell_type": "markdown",
   "metadata": {},
   "source": [
    "**`Exercice 4`**: \n",
    "Alice, Bob and Carol have agreed to pool their Halloween candy and split it evenly among themselves. For the sake of their friendship, any candies left over will be smashed. For example, if they collectively bring home 91 candies, they'll take 30 each and smash 1.\n",
    "\n",
    "Write an arithmetic expression below to calculate how many candies they must smash for a given haul."
   ]
  },
  {
   "cell_type": "code",
<<<<<<< HEAD
   "execution_count": 5,
   "metadata": {},
   "outputs": [
    {
     "name": "stdout",
     "output_type": "stream",
     "text": [
      "1\n"
     ]
    }
   ],
=======
   "execution_count": null,
   "metadata": {},
   "outputs": [],
>>>>>>> 7eb7fea32aad2a6eb3401c6135ebfe1ffbc5ab7d
   "source": [
    "# Variables representing the number of candies collected by alice, bob, and carol\n",
    "alice_candies = 121\n",
    "bob_candies = 77\n",
    "carol_candies = 109\n",
    "\n",
    "# Your code goes here! Replace the right-hand side of this assignment with an expression\n",
    "# involving alice_candies, bob_candies, and carol_candies\n",
<<<<<<< HEAD
    "to_smash = (alice_candies + bob_candies + carol_candies) % 3\n",
    "print(to_smash)"
=======
    "to_smash = -1"
>>>>>>> 7eb7fea32aad2a6eb3401c6135ebfe1ffbc5ab7d
   ]
  },
  {
   "cell_type": "markdown",
   "metadata": {},
   "source": [
    "### fonctions utiles liées aux integers ou aux float "
   ]
  },
  {
   "cell_type": "code",
   "execution_count": 75,
   "metadata": {},
   "outputs": [],
   "source": [
    "# Valeur absolue de x\n",
    "abs(x)\n",
    "\n",
    "# obtenir l'arrondi d'un float\n",
    "round(x)\n",
    "\n",
    "# Convert an object to integer\n",
    "s = \"8\"\n",
    "s_as_an_integer = int(s)\n",
    "\n",
    "# Convert an object to float\n",
    "s_as_a_float = float(s)"
   ]
  },
  {
<<<<<<< HEAD
   "cell_type": "code",
   "execution_count": 10,
   "metadata": {},
   "outputs": [
    {
     "name": "stdout",
     "output_type": "stream",
     "text": [
      "3\n"
     ]
    }
   ],
   "source": [
    "#Converting a float to an int truncates it\n",
    "\n",
    "x = 3.6\n",
    "print(int(x))"
   ]
  },
  {
=======
>>>>>>> 7eb7fea32aad2a6eb3401c6135ebfe1ffbc5ab7d
   "cell_type": "markdown",
   "metadata": {},
   "source": [
    "## Les strings en détail"
   ]
  },
  {
   "cell_type": "markdown",
   "metadata": {},
   "source": [
    "### Les astuces concernant les strings"
   ]
  },
  {
   "cell_type": "code",
   "execution_count": 76,
   "metadata": {},
   "outputs": [
    {
     "name": "stdout",
     "output_type": "stream",
     "text": [
      "J'aime le Python!' J'aime le Python a line \n",
      " to an another\n"
     ]
    }
   ],
   "source": [
    "# Pour utiliser le symbole ` dans une string il faut écrire \\``\t\n",
    "a_string = \"J\\'aime le Python!'\"\n",
    "\n",
    "# Je peux également utiliser les triples guillements\n",
    "the_same_string = \"\"\"J'aime le Python\"\"\"\n",
    "\n",
    "# Pour sauter une ligne \\n\n",
    "a_string_with_a_space =\t\"a line \\n to an another\"\n",
    "\n",
    "print(a_string, the_same_string, a_string_with_a_space)"
   ]
  },
  {
   "cell_type": "code",
   "execution_count": 77,
   "metadata": {},
   "outputs": [
    {
     "data": {
      "text/plain": [
       "16"
      ]
     },
     "execution_count": 77,
     "metadata": {},
     "output_type": "execute_result"
    }
   ],
   "source": [
    "n = 2\n",
    "the_string = \"string\"\n",
    "\n",
    "# Renvoie le n ème élément d'une liste \n",
    "the_string[n] \n",
    "\n",
    "# Renvoie le nombre de caractère dans la string\n",
    "len(the_same_string)"
   ]
  },
  {
   "cell_type": "markdown",
   "metadata": {},
   "source": [
    "### Les méthodes de la classe str"
   ]
  },
  {
   "cell_type": "code",
<<<<<<< HEAD
   "execution_count": 2,
   "metadata": {},
   "outputs": [
    {
     "name": "stdout",
     "output_type": "stream",
     "text": [
      "quelle belle journée\n",
      "QUELLE BELLE JOURNÉE\n",
      "Quelle belle journée\n",
      "Quelle belle soirée\n",
      "7\n",
      "4\n",
      "['Quelle', 'belle', 'journée']\n",
      "Quelle belle journée\n",
      "Quelle belle journée\n"
     ]
    }
   ],
=======
   "execution_count": 78,
   "metadata": {},
   "outputs": [],
>>>>>>> 7eb7fea32aad2a6eb3401c6135ebfe1ffbc5ab7d
   "source": [
    "my_string = \"Quelle belle journée\"\n",
    "\n",
    "# Mettre tout en minuscule\n",
    "lower_string = my_string.lower()\n",
<<<<<<< HEAD
    "print(lower_string)\n",
    "\n",
    "# Mettre tout en majuscule\n",
    "upper_string = my_string.upper()\n",
    "print(upper_string)\n",
    "\n",
    "# Mettre une majuscule au début\n",
    "capitalized_string = my_string.capitalize()\n",
    "print(capitalized_string)\n",
    "\n",
    "# Remplacez une soirée\n",
    "replaced_string = my_string.replace(\"journée\", \"soirée\")\n",
    "print(replaced_string)\n",
    "\n",
    "# Cherchez un bout de la chaine\n",
    "emplacement_de_belle = my_string.find(\"belle\")\n",
    "print(emplacement_de_belle)\n",
    "\n",
    "# Compte le nombre de fois ou apparait un caractère\n",
    "count_string = my_string.count(\"l\")\n",
    "print(count_string)\n",
    "\n",
    "# Diviser une chaine de caractère pour créer une liste\n",
    "splited_string = my_string.split(\" \")\n",
    "print(splited_string)\n",
    "\n",
    "# Remplace les {} par la valeur définie dans format\n",
    "my_string = \"Quelle {} journée\".format(\"belle\")\n",
    "my_string = \"Quelle {adjectif} journée\".format(adjectif=\"belle\")\n",
    "print(my_string)"
=======
    "\n",
    "# Mettre tout en majuscule\n",
    "upper_string = my_string.upper()\n",
    "\n",
    "# Mettre une majuscule au début\n",
    "capitalized_string = my_string.capitalize()\n",
    "\n",
    "# Remplacez une soirée\n",
    "replaced_string = my_string.replace(\"journée\", \"soirée\")\n",
    "\n",
    "# Cherchez un bout de la chaine\n",
    "emplacement_de_belle = my_string.find(\"belle\")\n",
    "\n",
    "# Compte le nombre de fois ou apparait un caractère\n",
    "count_string = my_string.count(\"l\")\n",
    "\n",
    "# Diviser une chaine de caractère pour créer une liste\n",
    "splited_string = my_string.split(\" \")\n",
    "\n",
    "# Remplace les {} par la valeur définie dans format\n",
    "my_string = \"Quelle {} journée\".format(\"belle\")\n",
    "my_string = \"Quelle {adjectif} journée\".format(adjectif=\"belle\")"
>>>>>>> 7eb7fea32aad2a6eb3401c6135ebfe1ffbc5ab7d
   ]
  },
  {
   "cell_type": "markdown",
   "metadata": {},
   "source": [
    "**`Exercice`**: travaillez sur la définition de python \n",
    "- remplacez python par lovely python partout dans la chaine de caractère suivante\n",
    "- Affichez la chaine suivante en une seule chaine de caractères en sautant une ligne entre chaque phrase et en faisant commencer chaque phrase par une majuscule (\n",
    "    \n",
    "indice: \n",
    "- On calcule le nombre d'élément d'une liste de la meme manière qu'on calcule la longueur d'une chaine de caratère\n",
    "- On accède au nème éléments d'une liste de la même manière qu'on accède nème caractère d'une chaine de caractères."
   ]
  },
  {
   "cell_type": "code",
<<<<<<< HEAD
   "execution_count": 16,
   "metadata": {},
   "outputs": [
    {
     "name": "stdout",
     "output_type": "stream",
     "text": [
      "lovely python is an interpreted high-level general-purpose programming language.\n",
      "its design philosophy emphasizes code readability with its use of significant indentation.\n",
      "its language constructs as well as its object-oriented approach aim to help programmers write clear, logical code for small and large-scale projects..\n"
     ]
    }
   ],
   "source": [
    "python_definition = \"python is an interpreted high-level general-purpose programming language. its design philosophy emphasizes code readability with its use of significant indentation. its language constructs as well as its object-oriented approach aim to help programmers write clear, logical code for small and large-scale projects.\"\n",
    "python_definition = python_definition.replace(\"python\", \"lovely python\")\n",
    "python_definition_list = python_definition.split(\". \")\n",
    "# python_definition = \"{}.\\n{}.\\n{}.\".format(python_definition_list[0].capitalize(), python_definition_list[1].capitalize(), python_definition_list[2].capitalize())\n",
    "python_definition = \"{}.\\n{}.\\n{}\".format(*python_definition_list)\n",
    "\n",
    "print(python_definition)"
=======
   "execution_count": 79,
   "metadata": {},
   "outputs": [],
   "source": [
    "python_definition = \"python is an interpreted high-level general-purpose programming language. its design philosophy emphasizes code readability with its use of significant indentation. its language constructs as well as its object-oriented approach aim to help programmers write clear, logical code for small and large-scale projects.\""
>>>>>>> 7eb7fea32aad2a6eb3401c6135ebfe1ffbc5ab7d
   ]
  },
  {
   "cell_type": "markdown",
   "metadata": {},
   "source": [
    "## Les booleens en détail"
   ]
  },
  {
   "cell_type": "code",
   "execution_count": 80,
   "metadata": {},
   "outputs": [
    {
     "name": "stdout",
     "output_type": "stream",
     "text": [
      "False\n",
      "True\n",
      "True\n",
      "True\n",
      "False\n",
      "False\n",
      "False\n",
      "True\n",
      "True\n",
      "True\n",
      "False\n",
      "True\n",
      "False\n",
      "True\n"
     ]
    }
   ],
   "source": [
    "x = 8\n",
    "y = 9\n",
    "z = [7 ,8 ]\n",
    "\n",
    "\"\"\"Les booléens sont souvent le résultat d'une comparaison \"\"\"\n",
    "\n",
    "print( x == y ) #equal\n",
    "\n",
    "print( x != y ) # not equal\n",
    "\n",
    "print( x < y ) #strictly less than\n",
    "\n",
    "print( x <= y ) #less than or equal\n",
    "\n",
    "print( x > y ) #strictly greater than\n",
    "\n",
    "print( x >= y ) #greater than or equal\n",
    "\n",
    "\"\"\" ou le résultat d'affirmation \"\"\"\n",
    "\n",
    "print( x is int ) # être\n",
    "\n",
    "print( x is not str ) # ou ne pas être\n",
    "\n",
    "print( x in z) # appartenir\n",
    "\n",
    "print( y not in z ) # ou ne pas appartenir\n",
    "\n",
    "\"\"\" enfin ils peuvent être combiné grâve à des opérateurs logique \"\"\"\n",
    "t = True\n",
    "f = False\n",
    "\n",
    "print( t and f)\n",
    "print( t or f)\n",
    "print( not t)\n",
    "print( not f)"
   ]
  }
 ],
 "metadata": {
  "interpreter": {
<<<<<<< HEAD
   "hash": "7754f1c53bb33bd820706ba8feb51581fc4f65eb5997df896d4d8e79960a24e5"
  },
  "kernelspec": {
   "display_name": "Python 3.8.8 64-bit ('base': conda)",
=======
   "hash": "4822798685b95d90cac6b9eac85a216cd3011e561666c6311e8088bbadca8e0f"
  },
  "kernelspec": {
   "display_name": "Python 3.8.6 64-bit ('3.8.6': pyenv)",
>>>>>>> 7eb7fea32aad2a6eb3401c6135ebfe1ffbc5ab7d
   "name": "python3"
  },
  "language_info": {
   "codemirror_mode": {
    "name": "ipython",
    "version": 3
   },
   "file_extension": ".py",
   "mimetype": "text/x-python",
   "name": "python",
   "nbconvert_exporter": "python",
   "pygments_lexer": "ipython3",
<<<<<<< HEAD
   "version": "3.8.8"
=======
   "version": "3.8.6"
>>>>>>> 7eb7fea32aad2a6eb3401c6135ebfe1ffbc5ab7d
  },
  "orig_nbformat": 2
 },
 "nbformat": 4,
 "nbformat_minor": 2
}
