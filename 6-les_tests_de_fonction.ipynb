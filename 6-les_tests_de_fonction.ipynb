{
 "cells": [
  {
   "cell_type": "markdown",
   "metadata": {},
   "source": [
    "# Testez une fonction"
   ]
  },
  {
   "cell_type": "markdown",
   "metadata": {},
   "source": [
    "## Découvrir les tests"
   ]
  },
  {
   "cell_type": "markdown",
   "metadata": {},
   "source": [
    "Il faut partir du principe qu'une fonction qui n'est pas testée n'existe pas"
   ]
  },
  {
   "cell_type": "markdown",
   "metadata": {},
   "source": [
    "Les test initialements servent à deux choses:\n",
    "- savoir si votre fonction marche sans devoir tester à la main tous les cas de figure. On appelle cela un **`test unitaire`**.\n",
    "- Quand vous développez autre chose, voir si ce qui marchait avant continue de marcher. On appelle ça un **`test de non regression`**"
   ]
  },
  {
   "cell_type": "markdown",
   "metadata": {},
   "source": [
    "Il existe également des tests de plus haut niveau:\n",
    "- **`test d'intégration`**: vérifier que deux parties de votre code fonctionnent ensemble\n",
    "- **`test fonctionnel`**: vérifier qu'une des fonctionnalités de votre code fonctionne du début à la fin"
   ]
  },
  {
   "cell_type": "markdown",
   "metadata": {},
   "source": [
    "Les tests ont aussi un autre usage, celui d'organiser votre pensée avant de coder, cela est particulièrement poussé avec le test driven developement"
   ]
  },
  {
   "cell_type": "markdown",
   "metadata": {},
   "source": [
    "## Que faut-il tester"
   ]
  },
  {
   "cell_type": "markdown",
   "metadata": {},
   "source": [
    "L'idée est de considérer les fonctions (et les classes quand on les testera) comme des boites noires. Cela ne nous interesse pas de savoir comment une fonction fait pour faire quelque chose.\n",
    "\n",
    "Ce qui nous interesse c'est de savoir si pour un certain **`input`** donne bien l'**`input`** attendu "
   ]
  },
  {
   "cell_type": "markdown",
   "metadata": {},
   "source": [
    "## Le test concrétement"
   ]
  },
  {
   "cell_type": "markdown",
   "metadata": {},
   "source": [
    "Il y a deux bibliothèques majeures de test en python:\n",
    "- pytest\n",
    "- Unitest\n",
    "\n",
    "Je vous propose d'utiliser Pytest mais Unitest se défend également.\n",
    "On fait donc **`pip install pytest`**"
   ]
  },
  {
   "cell_type": "code",
   "execution_count": 7,
   "metadata": {},
   "outputs": [],
   "source": [
    "def add(a,b):\n",
    "    return a+b"
   ]
  },
  {
   "cell_type": "code",
   "execution_count": 8,
   "metadata": {},
   "outputs": [],
   "source": [
    "import pytest\n",
    "\n",
    "# le test correspond à un \n",
    "def test_add():\n",
    "    assert add(3,4) == 7\n",
    "    assert add(\"a\",\"b\") == \"ab\"\n",
    "    #assert add(3.2,5.3) == 8.0\n",
    "\n",
    "test_add()\n",
    "# il ne se passe rien car les tests sont pensés pour les fichiers script non pour les notebooks"
   ]
  },
  {
   "cell_type": "markdown",
   "metadata": {},
   "source": [
    "## Estimer sa couverture de test"
   ]
  },
  {
   "cell_type": "markdown",
   "metadata": {},
   "source": [
    "Commencez par installer la librairie en écrivant dans votre terminal **`pip install coverage`** puis **`pip install pytest-cov`**.\n",
    "\n",
    "Puis lancez la commande suivante dans le terminal : **`pytest --cov=répertoire_du_code_source`**.\n",
    "\n"
   ]
  },
  {
   "cell_type": "markdown",
   "metadata": {},
   "source": [
    "## Test driven development"
   ]
  },
  {
   "cell_type": "markdown",
   "metadata": {},
   "source": [
    "Le Test Driven Development est une philosophie de code. Puisqu'on considère que tout ce qui n'est pas testé n'existe pas et qu'il est difficile de comprendre ce qu'il faut tester à la fin d'un porjet, autant écrire les tests avant le projet.\n",
    "\n",
    "Concrètement:\n",
    "- on commencer par écrire les tests qui définiront ce qu'on attend de notre code. Cette étape permet avant même de coder de visualiser nos attentes\n",
    "- on run ces tests et comme on n'a encore rien coder, tout fail\n",
    "- on code ensuite ce qu'on foit coder jusqu'à ce que nos tests passent"
   ]
  },
  {
   "cell_type": "markdown",
   "metadata": {},
   "source": [
    "Il y a trois règles au Test Driven Development"
   ]
  },
  {
   "cell_type": "markdown",
   "metadata": {},
   "source": [
    "**`Exercice`**:\n",
    "- créer un test pour définir une fonction my_sort qui fonctionne comme la méthode de liste sort(), elle est capable de trier dans l'ordre croissant une liste de nombres (int ou float), de string et de Booléen. Elle doit par contre renvoyer une erreur si on tente de trier une liste qui mélange les types\n",
    "- constuire ensuite cette fonction dans un autre fichier afin que ces tests passent avec succès."
   ]
  },
  {
   "cell_type": "code",
   "execution_count": 26,
   "metadata": {},
   "outputs": [
    {
     "name": "stdout",
     "output_type": "stream",
     "text": [
      "18\n",
      "9\n"
     ]
    },
    {
     "data": {
      "text/plain": [
       "9"
      ]
     },
     "execution_count": 26,
     "metadata": {},
     "output_type": "execute_result"
    }
   ],
   "source": [
    "def digital_root(n):\n",
    "    \n",
    "    my_list = list(str(n))\n",
    "    l = len(my_list)\n",
    "    if l == 1 :\n",
    "        return n\n",
    "    while l > 1:\n",
    "        sum_list = 0\n",
    "        for i in my_list :\n",
    "            sum_list += int(i)\n",
    "        print(sum_list) \n",
    "        my_list = list(str(sum_list))\n",
    "        l = len(my_list)\n",
    "    return sum_list\n",
    "\n",
    "digital_root(729)"
   ]
  },
  {
   "cell_type": "code",
   "execution_count": null,
   "metadata": {},
   "outputs": [],
   "source": []
  }
 ],
 "metadata": {
  "interpreter": {
   "hash": "4822798685b95d90cac6b9eac85a216cd3011e561666c6311e8088bbadca8e0f"
  },
  "kernelspec": {
   "display_name": "Python 3.8.6 64-bit ('3.8.6': pyenv)",
   "name": "python3"
  },
  "language_info": {
   "codemirror_mode": {
    "name": "ipython",
    "version": 3
   },
   "file_extension": ".py",
   "mimetype": "text/x-python",
   "name": "python",
   "nbconvert_exporter": "python",
   "pygments_lexer": "ipython3",
   "version": "3.8.6"
  },
  "orig_nbformat": 4
 },
 "nbformat": 4,
 "nbformat_minor": 2
}
