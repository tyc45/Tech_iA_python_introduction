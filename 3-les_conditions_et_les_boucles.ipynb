{
 "cells": [
  {
   "cell_type": "markdown",
   "metadata": {},
   "source": [
    "# Les conditions"
   ]
  },
  {
   "cell_type": "code",
   "execution_count": null,
   "metadata": {},
   "outputs": [],
   "source": [
    "\"\"\" Structure générale d'une condition if \"\"\"\n",
    "if mon_booleen:\n",
    "   # exécuter le code quand mon_booleen est vrai\n",
    "else:\n",
    "   # exécuter le code quand mon_booleen est faux"
   ]
  },
  {
   "cell_type": "markdown",
   "metadata": {},
   "source": [
    "Rappel: Les booléens peuvent être combinés avec des opérateurs logiques (and, or ..) ou issus de comparaison( <, >, == ...)"
   ]
  },
  {
   "cell_type": "code",
   "execution_count": null,
   "metadata": {},
   "outputs": [],
   "source": [
    "\"\"\" Exemple \"\"\"\n",
    "\n",
    "ensoleille = True\n",
    "\n",
    "if ensoleille:\n",
    "   print(\"on va à la plage !\")\n",
    "else:\n",
    "   print(\"on reste à la maison !\")"
   ]
  },
  {
   "cell_type": "code",
   "execution_count": null,
   "metadata": {},
   "outputs": [],
   "source": [
    "\"\"\" Il est également possible d'ajouter d'autres conditions\"\"\"\n",
    "\n",
    "ensoleille = False\n",
    "neige = True\n",
    "\n",
    "if ensoleille:\n",
    "   print(\"on va à la plage !\")\n",
    "elif neige:\n",
    "   print(\"on fait un bonhomme de neige\")\n",
    "else:\n",
    "   print(\"on reste à la maison !\")\n",
    "\n"
   ]
  },
  {
   "cell_type": "markdown",
   "metadata": {},
   "source": [
    "**`Exercice 1`**: quelle est la valeur de x?"
   ]
  },
  {
   "cell_type": "code",
   "execution_count": null,
   "metadata": {},
   "outputs": [],
   "source": [
    "a = True\n",
    "b = False\n",
    "c = True\n",
    "\n",
    "if a and b:\n",
    "    x = 5\n",
    "elif not c:\n",
    "    x = 4\n",
    "elif a:\n",
    "    x = 8\n",
    "else:\n",
    "    x = 7"
   ]
  },
  {
   "cell_type": "markdown",
   "metadata": {},
   "source": [
    "**`Exercice 2`**: devinez ce qui va être affiché"
   ]
  },
  {
   "cell_type": "code",
   "execution_count": null,
   "metadata": {},
   "outputs": [],
   "source": [
    "a = 3\n",
    "b = 7\n",
    "c = 5\n",
    "\n",
    "if (a < b or b != c) and c >= b:\n",
    "    print(\"c'est vrai\")\n",
    "else:\n",
    "    print(\"c'est faux\")"
   ]
  },
  {
   "cell_type": "markdown",
   "metadata": {},
   "source": [
    "# Les boucles"
   ]
  },
  {
   "cell_type": "markdown",
   "metadata": {},
   "source": [
    "## La boucle for"
   ]
  },
  {
   "cell_type": "code",
   "execution_count": 1,
   "metadata": {},
   "outputs": [
    {
     "name": "stdout",
     "output_type": "stream",
     "text": [
      "Pascal  présent\n",
      "Azel  présent\n",
      "Tony  présent\n",
      "Vladimir  présent\n",
      "Sabrina  présent\n"
     ]
    }
   ],
   "source": [
    "#Le principal interet de la boucle for est de parcourir des listes\n",
    "liste_apprenants = [\"Pascal\", \"Azel\", \"Tony\", \"Vladimir\", \"Sabrina\"]\n",
    "\n",
    "for element in liste_apprenants:\n",
    "    print(element, \" présent\")"
   ]
  },
  {
   "cell_type": "code",
   "execution_count": null,
   "metadata": {},
   "outputs": [],
   "source": [
    "# On peut également s'en servir avec la fonction range, cela permet de parcourir une liste d'entrée"
   ]
  },
  {
   "cell_type": "code",
   "execution_count": 3,
   "metadata": {},
   "outputs": [
    {
     "name": "stdout",
     "output_type": "stream",
     "text": [
      "0\n",
      "1\n",
      "2\n",
      "3\n",
      "4\n",
      "5\n",
      "6\n",
      "7\n",
      "8\n",
      "9\n"
     ]
    }
   ],
   "source": [
    "for i in range(10):\n",
    "    print(i)"
   ]
  },
  {
   "cell_type": "code",
   "execution_count": 7,
   "metadata": {},
   "outputs": [
    {
     "name": "stdout",
     "output_type": "stream",
     "text": [
      "j = 2\n",
      "j = 4\n",
      "j = 6\n",
      "j = 8\n",
      "j = 10\n",
      "k = 11\n",
      "k = 10\n",
      "k = 9\n",
      "k = 8\n"
     ]
    }
   ],
   "source": [
    "# la fonction range peut prendre plusieurs arguments:\n",
    "premier_element = 2\n",
    "dernier_element_plus_1 = 11\n",
    "pas = 2 # on compte tous les combien\n",
    "\n",
    "for j in range(premier_element,dernier_element_plus_1,pas):\n",
    "    print(f\"j = {j}\")\n",
    "\n",
    "premier_element = 11\n",
    "dernier_element_plus_1 = 7\n",
    "pas = -1 # on compte tous les combien\n",
    "\n",
    "for k in range(premier_element,dernier_element_plus_1,pas):\n",
    "    print(f\"k = {k}\")   "
   ]
  },
  {
   "cell_type": "markdown",
   "metadata": {},
   "source": [
    "**`Exercice 2`**: écrivez un code qui utilise range et qui a la sortie suivante:  \n",
    "canari 1  \n",
    "canari 2  \n",
    "canari 3  \n",
    "canari 4  \n",
    "canari 5  "
   ]
  },
  {
   "cell_type": "markdown",
   "metadata": {},
   "source": [
    "## Boucle While"
   ]
  },
  {
   "cell_type": "code",
   "execution_count": null,
   "metadata": {},
   "outputs": [],
   "source": [
    "# La structure générale de la boucle while est la suivante:\n",
    "\n",
    "i=0\n",
    "condition = 10 > i\n",
    "\n",
    "while condition:\n",
    "    print(f\"la condition est encore vraie car i vaut {i}\")\n",
    "    i += 1 # on appelle cela l'indentation\n",
    "    condition = 10 > i\n"
   ]
  },
  {
   "cell_type": "code",
   "execution_count": null,
   "metadata": {},
   "outputs": [],
   "source": [
    "# l'indentation permet de ne pas créer de boucle infinie\n",
    "i=11\n",
    "condition = 12 > i\n",
    "while condition:\n",
    "    print(\"ceci est une boucle infinie\")"
   ]
  },
  {
   "cell_type": "markdown",
   "metadata": {},
   "source": [
    "**`Exercice 1`**: \n",
    "- Utilisez une boucle et la fonction \"range\" pour calculer la somme des 100 premier entier naturel\n",
    "- Utilisez la boucle while pour calculer le produit des 100 premiers entier naturel"
   ]
  },
  {
   "cell_type": "markdown",
   "metadata": {},
   "source": [
    "**`Exercice 2`**: \n",
    "-  Dans un fichier scipt, A l'aide de la fonction while et la fonction input (help(input)) écrivez cette blague\n",
    "- \"Si repete et pepete  sont dans un bateau, pepete tombe à l'eau, qu'est ce qui reste?\"\n",
    "- si la personne répond \"repète\", le programme pose la meme question : \"Si repete et pepete sont dans un bateau, pepete tombe à l'eau, qu'est ce qui reste?\"\n",
    "- si la personne répond autre chose le programme pose comme question: \"Mais non tu comprends pas, si repete et pepete  sont dans un bateau, pepete tombe à l'eau, qu'est ce qui reste \"\n",
    "- si la personne répond \"tu es lourd\" enfin le programme s'arrete"
   ]
  },
  {
   "cell_type": "markdown",
   "metadata": {},
   "source": [
    "**`Exercice 3`**: \n",
    "- Reprenez votre programme en utilisant l'instruction `break`"
   ]
  },
  {
   "cell_type": "markdown",
   "metadata": {},
   "source": [
    "**`Exercice 4`**: Plus classique et beaucoup moins drole \n",
    "- écrivez un programme script qui demande deux nombres puis renvoie leur somme si les nombres sont valides sinon il renvoie une erreur et demande à nouveaux deux nombres valides."
   ]
  },
  {
   "cell_type": "markdown",
   "metadata": {},
   "source": [
    "**`Mini-projet`**: liste de courses\n",
    "Creez un programme script qui propose ce menu (et permet bien de le réaliser)\n",
    "\n",
    "Choisissez par les options suivantes:\n",
    "- 1: ajoutez un élément à la liste\n",
    "- 2: retirer une élément de la liste\n",
    "- 3: afficher la liste\n",
    "- 4: vider la liste\n",
    "- 5: Quitter  \n",
    "**Quel est votre choix?:**"
   ]
  }
 ],
 "metadata": {
  "interpreter": {
   "hash": "4822798685b95d90cac6b9eac85a216cd3011e561666c6311e8088bbadca8e0f"
  },
  "kernelspec": {
   "display_name": "Python 3.8.6 64-bit ('3.8.6': pyenv)",
   "name": "python3"
  },
  "language_info": {
   "codemirror_mode": {
    "name": "ipython",
    "version": 3
   },
   "file_extension": ".py",
   "mimetype": "text/x-python",
   "name": "python",
   "nbconvert_exporter": "python",
   "pygments_lexer": "ipython3",
   "version": "3.8.6"
  },
  "orig_nbformat": 4
 },
 "nbformat": 4,
 "nbformat_minor": 2
}
