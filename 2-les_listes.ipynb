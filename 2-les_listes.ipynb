{
 "cells": [
  {
   "cell_type": "markdown",
   "metadata": {},
   "source": [
    "# Les listes "
   ]
  },
  {
   "cell_type": "markdown",
   "metadata": {},
   "source": [
    "## notions fondamentales autour des listes"
   ]
  },
  {
   "cell_type": "markdown",
   "metadata": {},
   "source": [
    "### définition et déclaration"
   ]
  },
  {
   "cell_type": "markdown",
   "metadata": {},
   "source": [
    "Une liste est une collection d'objet:\n",
    "- qui peuvent avoir la même nature ou non\n",
    "- dont l'ordre compte, elle est ordonnée (contrairement aux dictionnaires) \n",
    "- dont les éléments peuvent être modifiés (contrairement aux tuples)"
   ]
  },
  {
   "cell_type": "code",
   "execution_count": 5,
   "metadata": {},
   "outputs": [],
   "source": [
    "liste_de_nombres = [1, 2, 3, 5, 7, 11, 13, 17,17]\n",
    "liste_de_strings = [\"a\", \"b\", \"abc\"]\n",
    "liste_foutoire = [7, 4.2, \"un truc\", True, [\"une\",\"autre\",\"liste\"]]"
   ]
  },
  {
   "cell_type": "markdown",
   "metadata": {},
   "source": [
    "### Accèder aux éléments d'une liste"
   ]
  },
  {
   "cell_type": "code",
   "execution_count": 7,
   "metadata": {},
   "outputs": [
    {
     "name": "stdout",
     "output_type": "stream",
     "text": [
      "1  est le 1er élément\n",
      "7  est le 5ème élément\n",
      "17  est le dernier élément\n"
     ]
    },
    {
     "data": {
      "text/plain": [
       "[5, 7, 11]"
      ]
     },
     "execution_count": 7,
     "metadata": {},
     "output_type": "execute_result"
    }
   ],
   "source": [
    "# On accède aux éléments d'une liste ainsi:\n",
    "# soit en partant du début\n",
    "#    le premier élément se trouve à l'indice 0\n",
    "print(liste_de_nombres[0], \" est le 1er élément\")\n",
    "print(liste_de_nombres[4], \" est le 5ème élément\") \n",
    "\n",
    "# soit par la fin\n",
    "print(liste_de_nombres[-1], \" est le dernier élément\")\n",
    "\n",
    "# On peut supprimer un élément en se servant de son indice\n",
    "del liste_foutoire[3]\n",
    "\n",
    "# On peut également selectionner une partie de la liste\n",
    "liste_de_nombres[1:3]\n",
    "\n",
    "# On peut également  selectionner tous les premiers ou tous les derniers éléments\n",
    "liste_de_nombres[:3]\n",
    "liste_de_nombres[3:]\n",
    "liste_de_nombres[3:-2] #Sélectionne le 2éme élément en partant de la fin"
   ]
  },
  {
   "cell_type": "markdown",
   "metadata": {},
   "source": [
    "### fonctions utiles"
   ]
  },
  {
   "cell_type": "code",
   "execution_count": 11,
   "metadata": {},
   "outputs": [
    {
     "name": "stdout",
     "output_type": "stream",
     "text": [
      "[('Netflix', 198), ('Hulu', 166), ('Sling', 237), ('Hbo', 125)]\n"
     ]
    }
   ],
   "source": [
    "# connaitre le nombre d'éléments dans une liste\n",
    "len(liste_de_nombres)\n",
    "\n",
    "# connaitre la somme d'une liste numérique\n",
    "sum(liste_de_nombres)\n",
    "\n",
    "# connaitre le maximum ou le minimum d'une liste numérique\n",
    "max(liste_de_nombres)\n",
    "min(liste_de_nombres)\n",
    "\n",
    "# connaitre tous les élements uniques\n",
    "set(liste_de_nombres)\n",
    "\n",
    "# savoir si les éléments d'une liste sont dans une deuxième liste\n",
    "liste2 = [1,2,3]\n",
    "set(liste2) < set(liste_de_nombres)\n",
    "\n",
    "# Créer une liste de tuples à partir de deux liste\n",
    "lst1=[\"Netflix\", \"Hulu\", \"Sling\", \"Hbo\"]\n",
    "lst2=[198, 166, 237, 125]\n",
    "liste_agreg = list(zip(lst1,lst2))\n",
    "print(liste_agreg)"
   ]
  },
  {
   "cell_type": "markdown",
   "metadata": {},
   "source": [
    "## Méthodes associées à la classe liste"
   ]
  },
  {
   "cell_type": "code",
   "execution_count": 7,
   "metadata": {},
   "outputs": [
    {
     "data": {
      "text/plain": [
       "True"
      ]
     },
     "execution_count": 7,
     "metadata": {},
     "output_type": "execute_result"
    }
   ],
   "source": [
    "# ajouter un élément à la fin d'une liste\n",
    "liste_de_nombres.append(0)\n",
    "\n",
    "# Ajoute un élément à une liste à une certaine position (ici au début: 0)\n",
    "liste_de_nombres.insert(0, 80)\n",
    "\n",
    "# concatène deux listes (ajoute une liste à une autre)\n",
    "liste_de_nombres.extend(liste2)\n",
    "\n",
    "# supprimer un élément d'une liste\n",
    "liste_de_strings.remove(\"abc\")\n",
    "\n",
    "# supprime le dernier élément d'une liste\n",
    "liste_de_strings.pop()\n",
    "# Avec un argument, supprime l'élément à l'indice donné\n",
    "liste_de_strings.pop(1)\n",
    "\n",
    "# ordonner les éléments d'une liste\n",
    "liste_de_nombres.sort()\n",
    "\n",
    "# retrouve l’indice de la première occurrence d’un élément à chercher dans notre liste ;\n",
    "liste_de_nombres.index(5)\n",
    "\n",
    "# savoir si une liste est une sous liste d'une autre\n",
    "set(liste2).issubset(liste_de_nombres)"
   ]
  },
  {
   "cell_type": "markdown",
   "metadata": {},
   "source": [
    "Pour les autres méthodes voir la : https://docs.python.org/fr/3/tutorial/datastructures.html"
   ]
  },
  {
   "cell_type": "code",
   "execution_count": 24,
   "metadata": {},
   "outputs": [
    {
     "name": "stdout",
     "output_type": "stream",
     "text": [
      "None\n",
      "[1, 2, 3, 5, 7, 11, 13, 17, 'a', 'b', 'abc']\n"
     ]
    }
   ],
   "source": [
    "liste_de_nombres = [1, 2, 3, 5, 7, 11, 13, 17]\n",
    "liste_de_strings = [\"a\", \"b\", \"abc\"]\n",
    "\n",
    "# concatène deux listes (ajoute une liste à une autre)\n",
    "liste_concat = liste_de_nombres.extend(liste_de_strings)\n",
    "print(liste_concat)\n",
    "print(liste_de_nombres)"
   ]
  },
  {
   "cell_type": "code",
   "execution_count": 28,
   "metadata": {},
   "outputs": [
    {
     "name": "stdout",
     "output_type": "stream",
     "text": [
      "[1, 2]\n",
      "[1, 2, 3]\n"
     ]
    }
   ],
   "source": [
    "my_list = [1,2,3]\n",
    "new_list = my_list.copy()\n",
    "new_list.pop()\n",
    "\n",
    "print(new_list)\n",
    "print(my_list)"
   ]
  },
  {
   "cell_type": "markdown",
   "metadata": {},
   "source": [
    "**`Exercice`**: "
   ]
  },
  {
   "cell_type": "code",
   "execution_count": 9,
   "metadata": {},
   "outputs": [
    {
     "name": "stdout",
     "output_type": "stream",
     "text": [
      "6\n",
      "6\n",
      "[3, 6, 52, 98, 1045, 1097]\n"
     ]
    }
   ],
   "source": [
    "liste_nombres = [1, 6, 98, 52, 1045, 3]\n",
    "\n",
    "# 1) classez la liste\n",
    "liste_nombres.sort()\n",
    "\n",
    "# 2) supprimez le premier élément de la liste\n",
    "liste_nombres.pop(0)\n",
    "\n",
    "# 3) ajoutez le nombre \"1097\" à la fin de la liste\n",
    "liste_nombres.append(1097)\n",
    "\n",
    "# 4) récupérez le deuxième élément dans une variable \"deuxieme_element\"\n",
    "deuxieme_element = liste_nombres[1]\n",
    "print(deuxieme_element) # la console devrait afficher \"6\" !\n",
    "\n",
    "# 5) affichez la longueur de la liste\n",
    "print(len(liste_nombres))\n",
    "\n",
    "# 6) copier une liste (et un objet en général)\n",
    "\n",
    "new_liste_nombres = liste_nombres.copy()\n",
    "print(new_liste_nombres)"
   ]
  },
  {
   "cell_type": "code",
   "execution_count": null,
   "metadata": {},
   "outputs": [],
   "source": []
  }
 ],
 "metadata": {
  "interpreter": {
   "hash": "7754f1c53bb33bd820706ba8feb51581fc4f65eb5997df896d4d8e79960a24e5"
  },
  "kernelspec": {
   "display_name": "Python 3.8.8 64-bit ('base': conda)",
   "name": "python3"
  },
  "language_info": {
   "codemirror_mode": {
    "name": "ipython",
    "version": 3
   },
   "file_extension": ".py",
   "mimetype": "text/x-python",
   "name": "python",
   "nbconvert_exporter": "python",
   "pygments_lexer": "ipython3",
   "version": "3.8.8"
  },
  "orig_nbformat": 4
 },
 "nbformat": 4,
 "nbformat_minor": 2
}
