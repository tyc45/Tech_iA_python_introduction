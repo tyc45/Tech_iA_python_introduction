{
 "cells": [
  {
   "cell_type": "markdown",
   "metadata": {},
   "source": [
    "# Les listes "
   ]
  },
  {
   "cell_type": "markdown",
   "metadata": {},
   "source": [
    "## notions fondamentales autour des listes"
   ]
  },
  {
   "cell_type": "markdown",
   "metadata": {},
   "source": [
    "### définition et déclaration"
   ]
  },
  {
   "cell_type": "markdown",
   "metadata": {},
   "source": [
    "Une liste est une collection d'objet:\n",
    "- qui peuvent avoir la même nature ou non\n",
    "- dont l'ordre compte, elle est ordonnée (contrairement aux dictionnaires) \n",
    "- dont les éléments peuvent être modifiés (contrairement aux tuples)"
   ]
  },
  {
   "cell_type": "code",
   "execution_count": 13,
   "metadata": {},
   "outputs": [],
   "source": [
    "liste_de_nombres = [1, 2, 3, 5, 7, 11, 13, 17]\n",
    "liste_de_strings = [\"a\", \"b\", \"abc\"]\n",
    "liste_foutoire = [7, 4.2, \"un truc\", True, [\"une\",\"autre\",\"liste\"]]"
   ]
  },
  {
   "cell_type": "markdown",
   "metadata": {},
   "source": [
    "### Accèder aux éléments d'une liste"
   ]
  },
  {
   "cell_type": "code",
   "execution_count": 7,
   "metadata": {},
   "outputs": [
    {
     "name": "stdout",
     "output_type": "stream",
     "text": [
      "1  est le 1er élément\n",
      "7  est le 5ème élément\n",
      "17  est le dernier élément\n"
     ]
    },
    {
     "data": {
      "text/plain": [
       "[5, 7, 11]"
      ]
     },
     "execution_count": 7,
     "metadata": {},
     "output_type": "execute_result"
    }
   ],
   "source": [
    "# On accède aux éléments d'une liste ainsi:\n",
    "# soit en partant du début\n",
    "#    le premier élément se trouve à l'indice 0\n",
    "print(liste_de_nombres[0], \" est le 1er élément\")\n",
    "print(liste_de_nombres[4], \" est le 5ème élément\") \n",
    "\n",
    "# soit par la fin\n",
    "print(liste_de_nombres[-1], \" est le dernier élément\")\n",
    "\n",
    "# On peut supprimer un élément en se servant de son indice\n",
    "del liste_foutoire[3]\n",
    "\n",
    "# On peut également selectionner une partie de la liste\n",
    "liste_de_nombres[1:3]\n",
    "\n",
    "# On peut également  selectionner tous les premiers ou tous les derniers éléments\n",
    "liste_de_nombres[:3]\n",
    "liste_de_nombres[3:]\n",
    "liste_de_nombres[3:-2] #Sélectionne le 2éme élément en partant de la fin"
   ]
  },
  {
   "cell_type": "markdown",
   "metadata": {},
   "source": [
    "### fonctions utiles"
   ]
  },
  {
   "cell_type": "code",
   "execution_count": 5,
   "metadata": {},
   "outputs": [
    {
     "data": {
      "text/plain": [
       "8"
      ]
     },
     "execution_count": 5,
     "metadata": {},
     "output_type": "execute_result"
    }
   ],
   "source": [
    "# connaitre le nombre d'éléments dans une liste\n",
    "len(liste_de_nombres)\n",
    "\n",
    "# connaitre la somme d'une liste numérique\n",
    "sum(liste_de_nombres)\n",
    "\n",
    "# connaitre le maximum ou le minimum d'une liste numérique\n",
    "max(liste_de_nombres)\n",
    "min(liste_de_nombres)"
   ]
  },
  {
   "cell_type": "markdown",
   "metadata": {},
   "source": [
    "## Méthodes associées à la classe liste"
   ]
  },
  {
   "cell_type": "code",
   "execution_count": 19,
   "metadata": {},
   "outputs": [
    {
     "ename": "TypeError",
     "evalue": "'<' not supported between instances of 'str' and 'int'",
     "output_type": "error",
     "traceback": [
      "\u001b[0;31m---------------------------------------------------------------------------\u001b[0m",
      "\u001b[0;31mTypeError\u001b[0m                                 Traceback (most recent call last)",
      "\u001b[0;32m/var/folders/py/4rt338cj1ks4z3332m7l3f880000gp/T/ipykernel_45275/193855735.py\u001b[0m in \u001b[0;36m<module>\u001b[0;34m\u001b[0m\n\u001b[1;32m     15\u001b[0m \u001b[0;34m\u001b[0m\u001b[0m\n\u001b[1;32m     16\u001b[0m \u001b[0;31m# ordonner les éléments d'une liste\u001b[0m\u001b[0;34m\u001b[0m\u001b[0;34m\u001b[0m\u001b[0;34m\u001b[0m\u001b[0m\n\u001b[0;32m---> 17\u001b[0;31m \u001b[0mliste_de_nombres\u001b[0m\u001b[0;34m.\u001b[0m\u001b[0msort\u001b[0m\u001b[0;34m(\u001b[0m\u001b[0;34m)\u001b[0m\u001b[0;34m\u001b[0m\u001b[0;34m\u001b[0m\u001b[0m\n\u001b[0m\u001b[1;32m     18\u001b[0m \u001b[0;34m\u001b[0m\u001b[0m\n\u001b[1;32m     19\u001b[0m \u001b[0;31m# retrouve l’indice de la première occurrence d’un élément à chercher dans notre liste ;\u001b[0m\u001b[0;34m\u001b[0m\u001b[0;34m\u001b[0m\u001b[0;34m\u001b[0m\u001b[0m\n",
      "\u001b[0;31mTypeError\u001b[0m: '<' not supported between instances of 'str' and 'int'"
     ]
    }
   ],
   "source": [
    "# ajouter un élément à la fin d'une liste\n",
    "liste_de_nombres.append(0)\n",
    "\n",
    "# Ajoute un élément à une liste à une certaine position (ici au début: 0)\n",
    "liste_de_nombres.insert(0, 80)\n",
    "\n",
    "# concatène deux listes (ajoute une liste à une autre)\n",
    "liste_de_nombres.extend(liste_de_strings)\n",
    "\n",
    "# supprimer un élément d'une liste\n",
    "liste_de_strings.remove(\"abc\")\n",
    "\n",
    "# supprime le dernier élément d'une liste\n",
    "liste_de_strings.pop()\n",
    "# Avec un argument, supprime l'élément à l'indice donné\n",
    "liste_de_strings.pop(1)\n",
    "\n",
    "# ordonner les éléments d'une liste\n",
    "liste_de_nombres.sort()\n",
    "\n",
    "# retrouve l’indice de la première occurrence d’un élément à chercher dans notre liste ;\n",
    "liste_de_nombres.index(5)"
   ]
  },
  {
   "cell_type": "markdown",
   "metadata": {},
   "source": [
    "Pour les autres méthodes voir la : https://docs.python.org/fr/3/tutorial/datastructures.html"
   ]
  },
  {
   "cell_type": "code",
   "execution_count": 24,
   "metadata": {},
   "outputs": [
    {
     "name": "stdout",
     "output_type": "stream",
     "text": [
      "None\n",
      "[1, 2, 3, 5, 7, 11, 13, 17, 'a', 'b', 'abc']\n"
     ]
    }
   ],
   "source": [
    "liste_de_nombres = [1, 2, 3, 5, 7, 11, 13, 17]\n",
    "liste_de_strings = [\"a\", \"b\", \"abc\"]\n",
    "\n",
    "# concatène deux listes (ajoute une liste à une autre)\n",
    "liste_concat = liste_de_nombres.extend(liste_de_strings)\n",
    "print(liste_concat)\n",
    "print(liste_de_nombres)"
   ]
  },
  {
   "cell_type": "code",
   "execution_count": 28,
   "metadata": {},
   "outputs": [
    {
     "name": "stdout",
     "output_type": "stream",
     "text": [
      "[1, 2]\n",
      "[1, 2, 3]\n"
     ]
    }
   ],
   "source": [
    "my_list = [1,2,3]\n",
    "new_list = my_list.copy()\n",
    "new_list.pop()\n",
    "\n",
    "print(new_list)\n",
    "print(my_list)"
   ]
  },
  {
   "cell_type": "markdown",
   "metadata": {},
   "source": [
    "**`Exercice`**: "
   ]
  },
  {
   "cell_type": "code",
   "execution_count": 9,
   "metadata": {},
   "outputs": [
    {
     "name": "stdout",
     "output_type": "stream",
     "text": [
      "6\n",
      "6\n",
      "[3, 6, 52, 98, 1045, 1097]\n"
     ]
    }
   ],
   "source": [
    "liste_nombres = [1, 6, 98, 52, 1045, 3]\n",
    "\n",
    "# 1) classez la liste\n",
    "liste_nombres.sort()\n",
    "\n",
    "# 2) supprimez le premier élément de la liste\n",
    "liste_nombres.pop(0)\n",
    "\n",
    "# 3) ajoutez le nombre \"1097\" à la fin de la liste\n",
    "liste_nombres.append(1097)\n",
    "\n",
    "# 4) récupérez le deuxième élément dans une variable \"deuxieme_element\"\n",
    "deuxieme_element = liste_nombres[1]\n",
    "print(deuxieme_element) # la console devrait afficher \"6\" !\n",
    "\n",
    "# 5) affichez la longueur de la liste\n",
    "print(len(liste_nombres))\n",
    "\n",
    "# 6) copier une liste (et un objet en général)\n",
    "\n",
    "new_liste_nombres = liste_nombres.copy()\n",
    "print(new_liste_nombres)"
   ]
  },
  {
   "cell_type": "markdown",
   "metadata": {},
   "source": [
    "## Compréhension de liste"
   ]
  },
  {
   "cell_type": "markdown",
   "metadata": {},
   "source": [
    "La comprehension de liste est une manière de travaille sur les listes"
   ]
  },
  {
   "cell_type": "code",
   "execution_count": 3,
   "metadata": {},
   "outputs": [
    {
     "name": "stdout",
     "output_type": "stream",
     "text": [
      "[3, 8, 7, 20, 32, 21]\n",
      "[3, 4, 8, 7, 20, 32, 9, 21]\n"
     ]
    }
   ],
   "source": [
    "ma_liste = [3, -4, 8, 7, 20, 32, -9, 21]\n",
    "filtre_nombres_positifs = [i for i in ma_liste if i>0]\n",
    "print(filtre_nombres_positifs)\n",
    "# très pratique pour filter\n",
    "\n",
    "# on peut également intégrer un else\n",
    "abs_liste = [i if i>0 else -i for i in ma_liste ]\n",
    "print(abs_liste)"
   ]
  },
  {
   "cell_type": "markdown",
   "metadata": {},
   "source": [
    "**`Exercice`**: \n",
    "Utilisez la compréhension de liste pour à partir de la liste ma_liste, renvoyer une nouvelle liste ne comprennant seulement les nombres impair se situant juste après les nombres paires positif de cette liste.\n",
    "\n",
    "Exemple \n",
    "- pour : ma_liste = [3, -4, 8, 7, 20, 32, -9, 21]\n",
    "- renvoyer : [9 , 21, 33] "
   ]
  }
 ],
 "metadata": {
  "interpreter": {
   "hash": "7754f1c53bb33bd820706ba8feb51581fc4f65eb5997df896d4d8e79960a24e5"
  },
  "kernelspec": {
   "display_name": "Python 3.8.8 64-bit ('base': conda)",
   "name": "python3"
  },
  "language_info": {
   "codemirror_mode": {
    "name": "ipython",
    "version": 3
   },
   "file_extension": ".py",
   "mimetype": "text/x-python",
   "name": "python",
   "nbconvert_exporter": "python",
   "pygments_lexer": "ipython3",
   "version": "3.8.8"
  },
  "orig_nbformat": 4
 },
 "nbformat": 4,
 "nbformat_minor": 2
}
