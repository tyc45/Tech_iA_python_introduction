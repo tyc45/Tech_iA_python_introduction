{
 "cells": [
  {
   "cell_type": "markdown",
   "metadata": {},
   "source": [
    "# Les listes "
   ]
  },
  {
   "cell_type": "markdown",
   "metadata": {},
   "source": [
    "## notions fondamentales autour des listes"
   ]
  },
  {
   "cell_type": "markdown",
   "metadata": {},
   "source": [
    "### définition et déclaration"
   ]
  },
  {
   "cell_type": "markdown",
   "metadata": {},
   "source": [
    "Une liste est une collection d'objet:\n",
    "- qui peuvent avoir la même nature ou non\n",
    "- dont l'ordre compte, elle est ordonnée (contrairement aux dictionnaires) \n",
    "- dont les éléments peuvent être modifiés (contrairement aux tuples)"
   ]
  },
  {
   "cell_type": "code",
   "execution_count": 3,
   "metadata": {},
   "outputs": [],
   "source": [
    "liste_de_nombres = [1, 2, 3, 5, 7, 11, 13, 17]\n",
    "liste_de_strings = [\"a\", \"b\", \"abc\"]\n",
    "liste_foutoire = [7, 4.2, \"un truc\", True, [\"une\",\"autre\",\"liste\"]]"
   ]
  },
  {
   "cell_type": "markdown",
   "metadata": {},
   "source": [
    "### Accèder aux éléments d'une liste"
   ]
  },
  {
   "cell_type": "code",
   "execution_count": 4,
   "metadata": {},
   "outputs": [
    {
     "name": "stdout",
     "output_type": "stream",
     "text": [
      "1  est le 1er élément\n",
      "7  est le 5ème élément\n",
      "17  est le dernier élément\n"
     ]
    }
   ],
   "source": [
    "# On accède aux éléments d'une liste ainsi:\n",
    "# soit en partant du début\n",
    "#    le premier élément se trouve à l'indice 0\n",
    "print(liste_de_nombres[0], \" est le 1er élément\")\n",
    "print(liste_de_nombres[4], \" est le 5ème élément\") \n",
    "\n",
    "# soit par la fin\n",
    "print(liste_de_nombres[-1], \" est le dernier élément\")\n",
    "\n",
    "# On peut supprimer un élément en se servant de son indice\n",
    "del liste_foutoire[3]\n",
    "\n",
    "# On peut également selectionner une partie de la liste\n",
    "liste_de_nombres[0:3]\n",
    "\n",
    "# On peut également  selectionner tous les premiers ou tous les derniers éléments\n",
    "liste_de_nombres[:3]\n",
    "liste_de_nombres[3:]"
   ]
  },
  {
   "cell_type": "markdown",
   "metadata": {},
   "source": [
    "### fonctions utiles"
   ]
  },
  {
   "cell_type": "code",
   "execution_count": 5,
   "metadata": {},
   "outputs": [
    {
     "data": {
      "text/plain": [
       "8"
      ]
     },
     "execution_count": 5,
     "metadata": {},
     "output_type": "execute_result"
    }
   ],
   "source": [
    "# connaitre le nombre d'éléments dans une liste\n",
    "len(liste_de_nombres)\n",
    "\n",
    "# connaitre la somme d'une liste numérique\n",
    "sum(liste_de_nombres)\n",
    "\n",
    "# connaitre le maximum ou le minimum d'une liste numérique\n",
    "max(liste_de_nombres)\n",
    "min(liste_de_nombres)"
   ]
  },
  {
   "cell_type": "markdown",
   "metadata": {},
   "source": [
    "## Méthodes associées à la classe liste"
   ]
  },
  {
   "cell_type": "code",
   "execution_count": null,
   "metadata": {},
   "outputs": [],
   "source": [
    "# ajouter un élément à une liste\n",
    "liste_de_nombres.append(0)\n",
    "\n",
    "# Ajoute un élément à une liste à une certaine position (ici au début: 0)\n",
    "liste_de_nombres.insert(0, -1)\n",
    "\n",
    "# concatène deux listes (ajoute une liste à une autre)\n",
    "liste_concatenee = liste_de_nombres.extend(liste_de_strings)\n",
    "\n",
    "# supprimer un élément d'une liste\n",
    "liste_de_strings.remove(\"abc\")\n",
    "\n",
    "# supprime le dernier élément d'une liste\n",
    "liste_de_strings.pop()\n",
    "\n",
    "# ordonner les éléments d'une liste\n",
    "liste_de_nombres.sort()\n",
    "\n",
    "# retrouve l’indice de la première occurrence d’un élément à chercher dans notre liste ;\n",
    "liste_de_nombres.index(5)\n",
    "\n"
   ]
  },
  {
   "cell_type": "markdown",
   "metadata": {},
   "source": [
    "Pour les autres méthodes voir la : https://docs.python.org/fr/3/tutorial/datastructures.html"
   ]
  },
  {
   "cell_type": "markdown",
   "metadata": {},
   "source": [
    "**`Exercice`**: "
   ]
  },
  {
   "cell_type": "code",
   "execution_count": null,
   "metadata": {},
   "outputs": [],
   "source": [
    "liste_nombres = [1, 6, 98, 52, 1045, 3]\n",
    "\n",
    "# 1) classez la liste\n",
    "\n",
    "# 2) supprimez le premier élément de la liste\n",
    "\n",
    "# 3) ajoutez le nombre \"1097\" à la fin de la liste\n",
    "\n",
    "# 4) récupérez le deuxième élément dans une variable \"deuxieme_element\"\n",
    "deuxieme_element = \n",
    "print(deuxieme_element) # la console devrait afficher \"6\" !\n",
    "\n",
    "# 5) affichez la longueur de la liste"
   ]
  },
  {
   "cell_type": "markdown",
   "metadata": {},
   "source": [
    "## Compréhension de liste"
   ]
  },
  {
   "cell_type": "markdown",
   "metadata": {},
   "source": [
    "La comprehension de liste est une manière de travaille sur les listes"
   ]
  },
  {
   "cell_type": "code",
   "execution_count": 3,
   "metadata": {},
   "outputs": [
    {
     "name": "stdout",
     "output_type": "stream",
     "text": [
      "[3, 8, 7, 20, 32, 21]\n",
      "[3, 4, 8, 7, 20, 32, 9, 21]\n"
     ]
    }
   ],
   "source": [
    "ma_liste = [3, -4, 8, 7, 20, 32, -9, 21]\n",
    "filtre_nombres_positifs = [i for i in ma_liste if i>0]\n",
    "print(filtre_nombres_positifs)\n",
    "# très pratique pour filter\n",
    "\n",
    "# on peut également intégrer un else\n",
    "abs_liste = [i if i>0 else -i for i in ma_liste ]\n",
    "print(abs_liste)"
   ]
  },
  {
   "cell_type": "markdown",
   "metadata": {},
   "source": [
    "**`Exercice`**: \n",
    "Utilisez la compréhension de liste pour à partir de la liste ma_liste, renvoyer une nouvelle liste ne comprennant seulement les nombres impair se situant juste après les nombres paires positif de cette liste.\n",
    "\n",
    "Exemple \n",
    "- pour : ma_liste = [3, -4, 8, 7, 20, 32, -9, 21]\n",
    "- renvoyer : [9 , 21, 33] "
   ]
  }
 ],
 "metadata": {
  "interpreter": {
   "hash": "4822798685b95d90cac6b9eac85a216cd3011e561666c6311e8088bbadca8e0f"
  },
  "kernelspec": {
   "display_name": "Python 3.8.6 64-bit ('3.8.6': pyenv)",
   "name": "python3"
  },
  "language_info": {
   "codemirror_mode": {
    "name": "ipython",
    "version": 3
   },
   "file_extension": ".py",
   "mimetype": "text/x-python",
   "name": "python",
   "nbconvert_exporter": "python",
   "pygments_lexer": "ipython3",
   "version": "3.8.6"
  },
  "orig_nbformat": 4
 },
 "nbformat": 4,
 "nbformat_minor": 2
}
