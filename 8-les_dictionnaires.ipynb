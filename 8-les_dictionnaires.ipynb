{
 "cells": [
  {
   "cell_type": "markdown",
   "metadata": {},
   "source": [
    "# Créer un dictionnaire"
   ]
  },
  {
   "cell_type": "code",
   "execution_count": 3,
   "metadata": {},
   "outputs": [],
   "source": [
    "nouvelle_campagne = {\n",
    "    \"responsable_de_campagne\": \"Jeanne d'Arc\",\n",
    "    \"nom_de_campagne\": \"Campagne nous aimons les chiens\",\n",
    "    \"date_de_début\": \"01/01/2020\",\n",
    "    \"influenceurs_importants\": [\"@MonAmourDeChien\", \"@MeilleuresFriandisesPourChiens\"]\n",
    "}"
   ]
  },
  {
   "cell_type": "code",
   "execution_count": 3,
   "metadata": {},
   "outputs": [],
   "source": [
    "trucs_appris_en_python = { \"lesstrings\": \"exemple\", \"lesintegers\": 9, \"leslistes\": [7,8,9], \"les booleen\": True }"
   ]
  },
  {
   "cell_type": "code",
   "execution_count": 5,
   "metadata": {},
   "outputs": [
    {
     "data": {
      "text/plain": [
       "{'lesstrings': 'exemple',\n",
       " 'lesintegers': 9,\n",
       " 'leslistes': [7, 8, 9],\n",
       " 'les booleen': True,\n",
       " 'lesfloats': 3.8}"
      ]
     },
     "execution_count": 5,
     "metadata": {},
     "output_type": "execute_result"
    }
   ],
   "source": [
    "trucs_appris_en_python['lesfloats'] = 3.8\n",
    "trucs_appris_en_python"
   ]
  },
  {
   "cell_type": "code",
   "execution_count": 11,
   "metadata": {},
   "outputs": [
    {
     "data": {
      "text/plain": [
       "{'facebook': 3.4, 'instagram': 1.8}"
      ]
     },
     "execution_count": 11,
     "metadata": {},
     "output_type": "execute_result"
    }
   ],
   "source": [
    "# autre manières\n",
    "taux_de_conversion = {}\n",
    "taux_de_conversion['facebook'] = 3.4\n",
    "taux_de_conversion['instagram'] = 1.2\n",
    "\n",
    "# encore une autre\n",
    "taux_de_conversion = dict()\n",
    "taux_de_conversion['facebook'] = 3.4\n",
    "taux_de_conversion['instagram'] = 1.2\n",
    "taux_de_conversion['instagram'] = 1.8\n",
    "taux_de_conversion"
   ]
  },
  {
   "cell_type": "code",
   "execution_count": 7,
   "metadata": {},
   "outputs": [
    {
     "name": "stdout",
     "output_type": "stream",
     "text": [
      "exemple\n",
      "3.4\n"
     ]
    }
   ],
   "source": [
    "# On accère au valeur grâce à ces clefs\n",
    "print(trucs_appris_en_python['lesstrings'])\n",
    "print(taux_de_conversion['facebook'])\n"
   ]
  },
  {
   "cell_type": "code",
   "execution_count": 10,
   "metadata": {},
   "outputs": [
    {
     "name": "stdout",
     "output_type": "stream",
     "text": [
      "{'instagram': 1.2}\n"
     ]
    },
    {
     "data": {
      "text/plain": [
       "{'lesstrings': 'exemple',\n",
       " 'lesintegers': 9,\n",
       " 'leslistes': [7, 8, 9],\n",
       " 'les booleen': True}"
      ]
     },
     "execution_count": 10,
     "metadata": {},
     "output_type": "execute_result"
    }
   ],
   "source": [
    "# supprimer un couple clef/valeur\n",
    "del taux_de_conversion['facebook']\n",
    "print(taux_de_conversion)\n",
    "\n",
    "# une autre manière:\n",
    "trucs_appris_en_python.pop('lesfloats') \n",
    "trucs_appris_en_python"
   ]
  },
  {
   "cell_type": "code",
   "execution_count": 13,
   "metadata": {},
   "outputs": [
    {
     "name": "stdout",
     "output_type": "stream",
     "text": [
      "True\n",
      "True\n"
     ]
    }
   ],
   "source": [
    "# vérifier l'existence d'une clef:\n",
    "print(\"instagram\" in taux_de_conversion)\n",
    "print(1.8 in taux_de_conversion.values())"
   ]
  },
  {
   "cell_type": "code",
   "execution_count": 22,
   "metadata": {},
   "outputs": [
    {
     "name": "stdout",
     "output_type": "stream",
     "text": [
      "dict_keys(['lesstrings', 'lesintegers', 'leslistes', 'les booleen'])\n",
      "dict_values(['exemple', 9, [7, 8, 9], True])\n",
      "dict_items([('lesstrings', 'exemple'), ('lesintegers', 9), ('leslistes', [7, 8, 9]), ('les booleen', True)])\n"
     ]
    }
   ],
   "source": [
    "# trois méthodes importantes liées aux dictionnaires:\n",
    "print(trucs_appris_en_python.keys())\n",
    "print(trucs_appris_en_python.values())\n",
    "print(trucs_appris_en_python.items())"
   ]
  },
  {
   "cell_type": "code",
   "execution_count": 23,
   "metadata": {},
   "outputs": [
    {
     "name": "stdout",
     "output_type": "stream",
     "text": [
      "('leslistes', [7, 8, 9])\n"
     ]
    }
   ],
   "source": [
    "print(list(trucs_appris_en_python.items())[2])"
   ]
  },
  {
   "cell_type": "code",
   "execution_count": 21,
   "metadata": {},
   "outputs": [
    {
     "name": "stdout",
     "output_type": "stream",
     "text": [
      "dict_values([16, 19])\n",
      "0\n",
      "dict_keys(['george', 'amber'])\n",
      "george\n"
     ]
    }
   ],
   "source": [
    "\"\"\"mydict = {'george': 16, 'amber': 19}\n",
    "print(list(mydict.keys())[list(mydict.values()).index(16)])  # Prints george\n",
    "\"\"\"\n",
    "\n",
    "mydict = {'george': 16, 'amber': 19}\n",
    "index_value = list(mydict.values()).index(16)\n",
    "print(mydict.values())\n",
    "print(index_value)\n",
    "\n",
    "print(mydict.keys())\n",
    "print(list(mydict.keys())[index_value])\n",
    "\n",
    "#mydict.keys()[]  # Prints george"
   ]
  },
  {
   "cell_type": "code",
   "execution_count": null,
   "metadata": {},
   "outputs": [],
   "source": [
    "# un dictionnaire n'est pas ordonné, il ne se parcourt pas par ses indices mais par ses clef ou ses valeurs:\n",
    "\n",
    "# Parcours en focntion de la clef\n",
    "for cle in fruits.keys():\n",
    "\n",
    "# Parcours en focntion de la valeur\n",
    "for valeur in fruits.values():\n",
    "\n",
    "# Parcours en fonction du couple clef valeur  \n",
    "for cle, valeur in fruits.items():"
   ]
  },
  {
   "cell_type": "code",
   "execution_count": 5,
   "metadata": {},
   "outputs": [
    {
     "name": "stdout",
     "output_type": "stream",
     "text": [
      "dict_keys(['facebook', 'instagram'])\n",
      "dict_values([3.4, 1.2])\n",
      "dict_items([('facebook', 3.4), ('instagram', 1.2)])\n"
     ]
    }
   ],
   "source": [
    "print(taux_de_conversion.keys())\n",
    "print(taux_de_conversion.values())\n",
    "print(taux_de_conversion.items())"
   ]
  }
 ],
 "metadata": {
  "interpreter": {
   "hash": "4822798685b95d90cac6b9eac85a216cd3011e561666c6311e8088bbadca8e0f"
  },
  "kernelspec": {
   "display_name": "Python 3.8.6 64-bit ('3.8.6': pyenv)",
   "name": "python3"
  },
  "language_info": {
   "codemirror_mode": {
    "name": "ipython",
    "version": 3
   },
   "file_extension": ".py",
   "mimetype": "text/x-python",
   "name": "python",
   "nbconvert_exporter": "python",
   "pygments_lexer": "ipython3",
   "version": "3.8.8"
  },
  "orig_nbformat": 4
 },
 "nbformat": 4,
 "nbformat_minor": 2
}
