{
 "cells": [
  {
   "cell_type": "markdown",
   "metadata": {},
   "source": [
    "# Créer un dictionnaire"
   ]
  },
  {
   "cell_type": "code",
   "execution_count": 1,
   "metadata": {},
   "outputs": [],
   "source": [
    "nouvelle_campagne = {\n",
    "    \"responsable_de_campagne\": \"Jeanne d'Arc\",\n",
    "    \"nom_de_campagne\": \"Campagne nous aimons les chiens\",\n",
    "    \"date_de_début\": \"01/01/2020\",\n",
    "    \"influenceurs_importants\": [\"@MonAmourDeChien\", \"@MeilleuresFriandisesPourChiens\"]\n",
    "}"
   ]
  },
  {
   "cell_type": "code",
   "execution_count": null,
   "metadata": {},
   "outputs": [],
   "source": [
    "# autre manières\n",
    "taux_de_conversion = {}\n",
    "taux_de_conversion['facebook'] = 3.4\n",
    "taux_de_conversion['instagram'] = 1.2\n",
    "\n",
    "# encore une autre\n",
    "taux_de_conversion = dict()\n",
    "taux_de_conversion['facebook'] = 3.4\n",
    "taux_de_conversion['instagram'] = 1.2"
   ]
  },
  {
   "cell_type": "code",
   "execution_count": null,
   "metadata": {},
   "outputs": [],
   "source": [
    "# On accère au valeur grâce à ces clefs\n",
    "print(nouvelle_campagne['responsable_de_campagne'])\n",
    "print(taux_de_conversion['facebook'])\n"
   ]
  },
  {
   "cell_type": "code",
   "execution_count": null,
   "metadata": {},
   "outputs": [],
   "source": [
    "# supprimer un couple clef/valeur\n",
    "del taux_de_conversion['facebook']\n",
    "print(infos_labradoodle)\n",
    "\n",
    "# une autre manière:\n",
    "comptes.pop('cle') "
   ]
  },
  {
   "cell_type": "code",
   "execution_count": null,
   "metadata": {},
   "outputs": [],
   "source": [
    "# vérifier l'existence d'une clef:\n",
    "print(\"instagram\" in taux_de_conversion)"
   ]
  },
  {
   "cell_type": "code",
   "execution_count": null,
   "metadata": {},
   "outputs": [],
   "source": [
    "# un dictionnaire n'est pas ordonné, il ne se parcourt pas par ses indices mais par ses clef ou ses valeurs:\n",
    "\n",
    "# Parcours en focntion de la clef\n",
    "for cle in fruits.keys():\n",
    "\n",
    "# Parcours en focntion de la valeur\n",
    "for valeur in fruits.values():\n",
    "\n",
    "# Parcours en focntion du couple clef valeur  \n",
    "for cle, valeur in fruits.items():"
   ]
  }
 ],
 "metadata": {
  "interpreter": {
   "hash": "4822798685b95d90cac6b9eac85a216cd3011e561666c6311e8088bbadca8e0f"
  },
  "kernelspec": {
   "display_name": "Python 3.8.6 64-bit ('3.8.6': pyenv)",
   "name": "python3"
  },
  "language_info": {
   "codemirror_mode": {
    "name": "ipython",
    "version": 3
   },
   "file_extension": ".py",
   "mimetype": "text/x-python",
   "name": "python",
   "nbconvert_exporter": "python",
   "pygments_lexer": "ipython3",
   "version": "3.8.6"
  },
  "orig_nbformat": 4
 },
 "nbformat": 4,
 "nbformat_minor": 2
}
