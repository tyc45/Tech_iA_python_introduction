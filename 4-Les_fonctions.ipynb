{
 "cells": [
  {
   "cell_type": "markdown",
   "metadata": {},
   "source": [
    "# Les fonctions"
   ]
  },
  {
   "cell_type": "markdown",
   "metadata": {},
   "source": [
    "Pour les autres fonctions built-in : https://docs.python.org/3/library/functions.html#help"
   ]
  },
  {
   "cell_type": "markdown",
   "metadata": {},
   "source": [
    "Une fonction est un bloc de code avec un but spécifique auquel vous pouvez donner un nom. \n",
    "- Elles sont dans un premier temps définies \n",
    "- Puis exécuter. \n",
    "Quand vous appelez une fonction, vous exécutez le code qu’elle contient. Les fonctions vous laissent saisir des paramètres pour exécuter le même code sur différentes valeurs."
   ]
  },
  {
   "cell_type": "markdown",
   "metadata": {},
   "source": [
    "## Les fonctions de base"
   ]
  },
  {
   "cell_type": "markdown",
   "metadata": {},
   "source": [
    "Certaines fonctions sont déja définies dans python, on en a déja rencontré quelques unes:\n",
    "- len(x)\n",
    "- type(x)\n",
    "- max(x)"
   ]
  },
  {
   "cell_type": "markdown",
   "metadata": {},
   "source": [
    "Pour savoir à quoi sert une fonction (ou une classe) il existe une autre fonction:"
   ]
  },
  {
   "cell_type": "code",
   "execution_count": 10,
   "metadata": {},
   "outputs": [
    {
     "name": "stdout",
     "output_type": "stream",
     "text": [
      "Help on built-in function max in module builtins:\n",
      "\n",
      "max(...)\n",
      "    max(iterable, *[, default=obj, key=func]) -> value\n",
      "    max(arg1, arg2, *args, *[, key=func]) -> value\n",
      "    \n",
      "    With a single iterable argument, return its biggest item. The\n",
      "    default keyword-only argument specifies an object to return if\n",
      "    the provided iterable is empty.\n",
      "    With two or more arguments, return the largest argument.\n",
      "\n"
     ]
    }
   ],
   "source": [
    "help(max)"
   ]
  },
  {
   "cell_type": "markdown",
   "metadata": {},
   "source": [
    "## Définir une fonction"
   ]
  },
  {
   "cell_type": "markdown",
   "metadata": {},
   "source": [
    "Il est également possible de créer ses propres fonctions"
   ]
  },
  {
   "cell_type": "code",
   "execution_count": null,
   "metadata": {},
   "outputs": [],
   "source": [
    "\"\"\"Structure génrale d'une fontion\"\"\"\n",
    "\n",
    "# étape de la définission\n",
    "def fonction_name(parametre_1,parametre_2):\n",
    "    #instructions\n",
    "    return result\n",
    "\n",
    "# étape de l'appel\n",
    "resultat = fonction_name(\"quelque_chose\",\"autre_chose\")"
   ]
  },
  {
   "cell_type": "code",
   "execution_count": 2,
   "metadata": {},
   "outputs": [
    {
     "name": "stdout",
     "output_type": "stream",
     "text": [
      "7\n"
     ]
    }
   ],
   "source": [
    "\"\"\"Exemple\"\"\"\n",
    "\n",
    "def add(a,b):\n",
    "    return a+b\n",
    "\n",
    "print(add(3,4))"
   ]
  },
  {
   "cell_type": "markdown",
   "metadata": {},
   "source": [
    "**`Exercice`**: "
   ]
  },
  {
   "cell_type": "code",
   "execution_count": 4,
   "metadata": {},
   "outputs": [
    {
     "name": "stdout",
     "output_type": "stream",
     "text": [
      "252\n"
     ]
    }
   ],
   "source": [
    "# Ecrivez une fonction qui permet de calculer le produit des éléments d'une liste contenant des integers.\n",
    "def produit_entiers(liste_entiers):\n",
    "    result = 1\n",
    "    for i in liste_entiers:\n",
    "        result *= i\n",
    "    return result"
   ]
  },
  {
   "cell_type": "code",
   "execution_count": 16,
   "metadata": {},
   "outputs": [
    {
     "data": {
      "text/plain": [
       "960"
      ]
     },
     "execution_count": 16,
     "metadata": {},
     "output_type": "execute_result"
    }
   ],
   "source": [
    "\n",
    "my_liste = [3,4,8,10]\n",
    "\n",
    "\n",
    "def produit_entiers(liste_entiers):\n",
    "    produit = liste_entiers[0]\n",
    "    for e in liste_entiers[1:]:\n",
    "        produit = produit * e\n",
    "    return produit\n",
    "\n",
    "produit_entiers(my_liste)\n",
    "\n"
   ]
  },
  {
   "cell_type": "markdown",
   "metadata": {},
   "source": [
    "## Ecrire correctement ses fonctions avec la Pep8"
   ]
  },
  {
   "cell_type": "markdown",
   "metadata": {},
   "source": [
    "Une doctring est un ensemble de mots qui documente un bout de code. Elle commence par trois guillemets ouvrants, le commentaire que vous souhaitez apporter puis trois guillements fermants."
   ]
  },
  {
   "cell_type": "code",
   "execution_count": null,
   "metadata": {},
   "outputs": [],
   "source": [
    "Exemple :\n",
    "\n",
    "\"\"\" This is a doctring. I'm here to explain what the following code will do.\n",
    "Oh, I'm multiline too!\n",
    "\"\"\""
   ]
  },
  {
   "cell_type": "markdown",
   "metadata": {},
   "source": [
    "Selon la PEP 8, chaque partie de votre code devrait contenir une Doctring.\n",
    "- tous les modules publics\n",
    "- toutes les fonctions\n",
    "- toutes les classes\n",
    "- toutes les méthodes de ces classes"
   ]
  },
  {
   "cell_type": "code",
   "execution_count": 7,
   "metadata": {},
   "outputs": [],
   "source": [
    "def add(a,b):\n",
    "    \"\"\" \n",
    "    This fonction returns the sum of the two parameters\n",
    "    the parameters should be numeric variables\n",
    "    \"\"\"\n",
    "    aprime = abs(a)  # on prend la valeur absolue\n",
    "    bprime = abs(b)  \n",
    "    return a + b"
   ]
  },
  {
   "cell_type": "code",
   "execution_count": 8,
   "metadata": {},
   "outputs": [
    {
     "name": "stdout",
     "output_type": "stream",
     "text": [
      "Help on function add in module __main__:\n",
      "\n",
      "add(a, b)\n",
      "    This fonction returns the sum of the two parameters\n",
      "    the parameters should be numeric variables\n",
      "\n"
     ]
    }
   ],
   "source": [
    "help(add)"
   ]
  },
  {
   "cell_type": "markdown",
   "metadata": {},
   "source": [
    "Cependant la Pep 8 nous demande également d'être concis dans nos commentaires et de ne pas commenter des évidences. Il faut donc se poser la question de savoir si ce que nous écrivons est évident pour quelqu'un qui n'a pas écrit le code (ici oui), si ce n'est pas évident alors il faut commenter"
   ]
  },
  {
   "cell_type": "markdown",
   "metadata": {},
   "source": [
    "**`règles d'écriture`**:\n",
    "- fonctions: minuscules et tiret du bas : my_function()\n",
    "- arguments des méthodes et fonctions : identique aux fonctions. my_function(param=False)  (attention pas d'esapce)"
   ]
  },
  {
   "cell_type": "markdown",
   "metadata": {},
   "source": [
    "## Définir des paramètres particuliers"
   ]
  },
  {
   "cell_type": "code",
   "execution_count": 3,
   "metadata": {},
   "outputs": [
    {
     "name": "stdout",
     "output_type": "stream",
     "text": [
      "15\n"
     ]
    }
   ],
   "source": [
    "# paramètre par défaut\n",
    "\n",
    "def add(a,b=10):\n",
    "    return a+b\n",
    "\n",
    "print(add(5))"
   ]
  },
  {
   "cell_type": "markdown",
   "metadata": {},
   "source": [
    "# Usage de *"
   ]
  },
  {
   "cell_type": "code",
   "execution_count": 5,
   "metadata": {},
   "outputs": [
    {
     "name": "stdout",
     "output_type": "stream",
     "text": [
      "J'affiche les premières lettres de l'alphabet a b c\n",
      "13\n"
     ]
    }
   ],
   "source": [
    "debut_alphabet = [\"a\",\"b\",\"c\"]\n",
    "print(\"J'affiche les premières lettres de l'alphabet {} {} {}\".format(*debut_alphabet))\n",
    "\n",
    "def add(a,*b):\n",
    "    return a + min(b)\n",
    "\n",
    "lst = [8,9,6,10]\n",
    "\n",
    "# lst wouldn't work, we need to use *lst\n",
    "\n",
    "print(add(7,*lst))"
   ]
  }
 ],
 "metadata": {
  "interpreter": {
   "hash": "7754f1c53bb33bd820706ba8feb51581fc4f65eb5997df896d4d8e79960a24e5"
  },
  "kernelspec": {
   "display_name": "Python 3.8.8 64-bit ('base': conda)",
   "name": "python3"
  },
  "language_info": {
   "codemirror_mode": {
    "name": "ipython",
    "version": 3
   },
   "file_extension": ".py",
   "mimetype": "text/x-python",
   "name": "python",
   "nbconvert_exporter": "python",
   "pygments_lexer": "ipython3",
   "version": "3.8.8"
  },
  "orig_nbformat": 4
 },
 "nbformat": 4,
 "nbformat_minor": 2
}
