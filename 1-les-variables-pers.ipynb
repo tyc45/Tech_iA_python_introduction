{
 "cells": [
  {
   "cell_type": "markdown",
   "metadata": {},
   "source": [
    "## Déclaration de variables"
   ]
  },
  {
   "cell_type": "code",
   "execution_count": 5,
   "metadata": {},
   "outputs": [],
   "source": [
    "apprenant = \"Jordan\"\n",
    "\n",
    "nombre_collegues = 12\n",
    "\n",
    "# double déclaration\n",
    "apprenant = eleve = \"Roger\""
   ]
  },
  {
   "cell_type": "markdown",
   "metadata": {},
   "source": [
    "## Afficher une variable"
   ]
  },
  {
   "cell_type": "code",
   "execution_count": 6,
   "metadata": {},
   "outputs": [
    {
     "name": "stdout",
     "output_type": "stream",
     "text": [
      "Roger\n",
      "nombre-collègues:  12 Roger\n",
      "apprenant:  Roger\n"
     ]
    }
   ],
   "source": [
    "print(apprenant)\n",
    "print(\"nombre-collègues:\", nombre_collegues, apprenant)\n",
    "print(\"apprenant:\", apprenant)\n",
    "\n",
    "#/!\\ La virgule fait un espace automatiquement!!!"
   ]
  },
  {
   "cell_type": "markdown",
   "metadata": {},
   "source": [
    "## Modifier une variable"
   ]
  },
  {
   "cell_type": "code",
   "execution_count": 8,
   "metadata": {},
   "outputs": [
    {
     "name": "stdout",
     "output_type": "stream",
     "text": [
      "George Denis 16\n",
      "George Denis\n"
     ]
    }
   ],
   "source": [
    "apprenant = eleve = \"George\"\n",
    "eleve = \"Denis\"\n",
    "nombre_collegues += 2\n",
    "print(apprenant,eleve,nombre_collegues)\n",
    "\n",
    "#Permutation\n",
    "eleve,apprenant = apprenant,eleve\n",
    "print(eleve,apprenant)\n",
    "\n",
    "a = 1\n",
    "b = 2\n",
    "c = 3\n",
    "\n",
    "a,b,c = a,a,b\n",
    "print(a,b,c)"
   ]
  },
  {
   "cell_type": "markdown",
   "metadata": {},
   "source": [
    "# Nommer une variable avec la Pep-8\n",
    "- Mettez un espace avant et après le signe égal\n",
    "    - apprennant = \"Charles\" et non apprenant=\"Charles\"\n",
    "- Utilisez des noms **descriptifs** dans votre code.\n",
    "    - Exemple: Au lieu de quantite (ou pire, qte), ajoutez des détails: quantite_en_stock, solde_actuel, etc.\n",
    "- Utilisez des **mots complets**.\n",
    "    - Exemple: revenu_annuel est plus clair que rev_annuel\n",
    "- Suivez une **convention d'appellation** commune.\n",
    "    - Le snake case: des noms composés de plusieurs mots séparés par des tirets bas (_)\n",
    "        - Exemple: nombre_de_chats, reponse_finale, le_meilleur_developpeur_python_du_monde, etc.\n",
    "    - Commencez avec une lettre minuscule (surtout pas par un nombre)\n",
    "    - Utilisez uniquement des **caractères alphanumériques** et des tirets bas, et donc pas d'accents!\n",
    "- Ne pas oublier que les noms de variables sont **sensibles à la casse**."
   ]
  },
  {
   "cell_type": "markdown",
   "metadata": {},
   "source": [
    "## Exercice\n",
    "Créer l'état civil de son voisin\n",
    "- Déclarer les variables nom, prenom, et deuxième prénom, puis une variable nom complet à l'aide des trois précédentes\n",
    "- Déclarer les variables année actuelle et date de naissance puis créer la variable age\n",
    "- Remplacer la valeur de la variable nom par celle de nom complet puis supprimer la variable nom complet"
   ]
  },
  {
   "cell_type": "code",
   "execution_count": 14,
   "metadata": {},
   "outputs": [
    {
     "name": "stdout",
     "output_type": "stream",
     "text": [
      "Abgrall Florian Mathieu 26\n",
      "Abgrall Florian Mathieu\n"
     ]
    }
   ],
   "source": [
    "first_name = \"Florian\"\n",
    "second_name = \"Mathieu\"\n",
    "last_name = \"Abgrall\"\n",
    "birth_year = 1995\n",
    "current_year = 2021\n",
    "\n",
    "full_name = last_name + \" \" + first_name + \" \" + second_name\n",
    "age = current_year - birth_year\n",
    "print(full_name,age)\n",
    "\n",
    "last_name = full_name\n",
    "del full_name\n",
    "print(last_name)"
   ]
  },
  {
   "cell_type": "markdown",
   "metadata": {},
   "source": [
    "# Les types primitifs de variable"
   ]
  },
  {
   "cell_type": "code",
   "execution_count": 15,
   "metadata": {},
   "outputs": [
    {
     "name": "stdout",
     "output_type": "stream",
     "text": [
      "<class 'int'> 7\n"
     ]
    }
   ],
   "source": [
    "# Les \"integers\", ou nombres entiers en français\n",
    "nombre_collegues = 7\n",
    "print(type(nombre_collegues),nombre_collegues)"
   ]
  }
 ],
 "metadata": {
  "interpreter": {
   "hash": "7754f1c53bb33bd820706ba8feb51581fc4f65eb5997df896d4d8e79960a24e5"
  },
  "kernelspec": {
   "display_name": "Python 3.8.8 64-bit ('base': conda)",
   "name": "python3"
  },
  "language_info": {
   "codemirror_mode": {
    "name": "ipython",
    "version": 3
   },
   "file_extension": ".py",
   "mimetype": "text/x-python",
   "name": "python",
   "nbconvert_exporter": "python",
   "pygments_lexer": "ipython3",
   "version": "3.8.8"
  },
  "orig_nbformat": 4
 },
 "nbformat": 4,
 "nbformat_minor": 2
}
