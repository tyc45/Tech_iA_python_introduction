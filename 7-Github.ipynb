{
 "cells": [
  {
   "cell_type": "markdown",
   "metadata": {},
   "source": [
    "## Programme\n",
    "- Créer un répertoire et le mettre en ligne\n",
    "- Cloner un répertoire\n",
    "- ajouter des fichiers à suivre\n",
    "- Créer un .gitignore\n",
    "- commit des changements\n",
    "- pull\n",
    "- push\n",
    "- créer une branche\n",
    "- pull request\n"
   ]
  },
  {
   "cell_type": "markdown",
   "metadata": {},
   "source": [
    "## Créer un répertoire et le mettre en ligne"
   ]
  },
  {
   "cell_type": "code",
   "execution_count": null,
   "metadata": {},
   "outputs": [],
   "source": [
    "git init -b foler_name"
   ]
  },
  {
   "cell_type": "markdown",
   "metadata": {},
   "source": [
    "**`Exercice`** (par deux)\n",
    "- Créer un dossier sur votre ordinateur \"get_started_git\"\n",
    "- Ajoutez y un fichier hello_world et créer une fonction hello qui prend un parametre. si le parametre est votre prenom la fonction renvoie \"hello votre prenom\" sinon la fonction renvoie \"je ne vous connais pas\"\n",
    "- Faites en un répertoire en ligne.\n",
    "- forker le projet de votre voisin sur votre répertoire\n",
    "- Cloner maintenant le répertoire de votre voision sur votre ordinateur\n",
    "- Créer une branche \"contribution\"\n",
    "- Modifier la fonction hello en ajoutant votre prénom dans les conditions pour qu'il vous salue\n",
    "- commit\n",
    "- pull\n",
    "- créer une pul request\n",
    "- acceptez ensuite la pull request de votre voisin si elle est valable"
   ]
  }
 ],
 "metadata": {
  "interpreter": {
   "hash": "4822798685b95d90cac6b9eac85a216cd3011e561666c6311e8088bbadca8e0f"
  },
  "kernelspec": {
   "display_name": "Python 3.8.6 64-bit ('3.8.6': pyenv)",
   "name": "python3"
  },
  "language_info": {
   "name": "python",
   "version": "3.8.6"
  },
  "orig_nbformat": 4
 },
 "nbformat": 4,
 "nbformat_minor": 2
}
