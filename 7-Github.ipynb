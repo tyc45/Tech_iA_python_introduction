{
 "cells": [
  {
   "cell_type": "markdown",
   "metadata": {},
   "source": [
    "# Programme\n",
    "- Créer un répertoire et le mettre en ligne\n",
    "- Cloner un répertoire\n",
    "- ajouter des fichiers à suivre\n",
    "- Créer un .gitignore\n",
    "- commit des changements\n",
    "- pull\n",
    "- push\n",
    "- créer une branche\n",
    "- pull request\n"
   ]
  },
  {
   "cell_type": "markdown",
   "metadata": {},
   "source": [
    "# Programme détaillé"
   ]
  },
  {
   "cell_type": "markdown",
   "metadata": {},
   "source": [
    "## Github pour les grands solitaires:"
   ]
  },
  {
   "cell_type": "markdown",
   "metadata": {},
   "source": [
    "Il faut d'abord trasnformer votre répertoire local en repository git, cela permet d'utiliser les commandes git\n",
    "- sur VS (dans controle de source code) : initialiser un dépôt\n",
    "- sur le terminal: **`git init -b foler_name`**"
   ]
  },
  {
   "cell_type": "markdown",
   "metadata": {},
   "source": [
    "Il vous faut ensuite au moins créer un fichier non vide pour pouvoir le publier sur git hub."
   ]
  },
  {
   "cell_type": "markdown",
   "metadata": {},
   "source": [
    "La prochaine étape consiste à le publier sur git:\n",
    "- sur VS: publiez sur github\n",
    "- sur le terminal **`gh repo create project_name`**\n"
   ]
  },
  {
   "cell_type": "markdown",
   "metadata": {},
   "source": [
    "Vous pouvez également faire l'opération inverse, créer un répertoire sur github (ou rechercher le répertoire d'un autre développeur) puis le cloner sur votre machine:\n",
    "- sur VS: Cloner un dépot github\n",
    "- sur le terminal: **`git clone url`**"
   ]
  },
  {
   "cell_type": "markdown",
   "metadata": {},
   "source": [
    "Il faut ensuite désigner à github quels fichiers vous voulez suivre:\n",
    "- sur VS: Dans la liste des changements vous avez un U pour dire qu'un fichier est non suivi, il sera automatiqument ajouté à votre commit\n",
    "- sur le terminal: **`git add file_name`**"
   ]
  },
  {
   "cell_type": "markdown",
   "metadata": {},
   "source": [
    "Vous aurez envie de ne pas suivre certains ficiers: ceux qui contiennent vos mots de passe par exemple, vous ne voulez pas les mettre en ligne. Il faut donc ajouter leur référence à un fichier particulier le .gitignore\n",
    "- sur VS: clique droit sur un fichier et ajouter au gitignore\n",
    "- sinon: ouvrir le fichier gitignore et ajouter le nom du dossier ou du fichier"
   ]
  },
  {
   "cell_type": "markdown",
   "metadata": {},
   "source": [
    "Une fois les modifications réalisées, il vous faut les commit ou les valider:\n",
    "- sur VS: ajouter un message en haut puis appuyer sur activer et valider\n",
    "- sur le terminal: **`git commit -m “message”`**  "
   ]
  },
  {
   "cell_type": "markdown",
   "metadata": {},
   "source": [
    "Avant de publier en ligne il vous faut télécharger les modifications qui ont été faite en ligne\n",
    "- sur VS: Cela est faut automatiquement\n",
    "- sur le terminal:  **`git pull`**"
   ]
  },
  {
   "cell_type": "markdown",
   "metadata": {},
   "source": [
    "Enfin il faut publier:\n",
    "- sur VS: Synchroniser les modifications\n",
    "- sur le terminal **`git push`**"
   ]
  },
  {
   "cell_type": "markdown",
   "metadata": {},
   "source": [
    "## Github pour le travaille de groupe"
   ]
  },
  {
   "cell_type": "markdown",
   "metadata": {},
   "source": [
    "Il arrive que vous voulliez travailler sur un projet collectif. Ce projet est souvent héberge par une personne. Pour contribuer au projet il vous faudra réaliser les étapes suivantes:\n",
    "- Forker le projet \"upstream\" sur votre répertoire github \"origin\"\n",
    "- Cloner le répertoire sur votre machine\n",
    "- Créer une branche et travailler dessus\n",
    "- Publier la branche sur votre fork\n",
    "- Créer la pull-request"
   ]
  },
  {
   "cell_type": "markdown",
   "metadata": {},
   "source": [
    "La première étape se passe sur github, il faut forker un projet. La deuxième étape est un clonage classique."
   ]
  },
  {
   "cell_type": "markdown",
   "metadata": {},
   "source": [
    "Il faut ensuite créer un branche pour apporter vos modifications:\n",
    "- sur VS: option (...) -> branche -> créer une branche\n",
    "- sur le terminal: **`git branch branch_name`** pour la créer  et **`git checkout branch_name`** pour se positionner dessus et donc développer dessus."
   ]
  },
  {
   "cell_type": "markdown",
   "metadata": {},
   "source": [
    "Il peut être bon arriver à ce stade de faire quelques config:\n",
    "\n",
    "Publier par défaut sur le dépôt 'origin'\n",
    "- Sur VS: option de remote\n",
    "- Sur le terminal: **`git config remote.pushdefault origin`** # \n",
    "\n",
    "Publier par défaut sur une branche portant le même nom que la branche courante dans le dépôt de publication\n",
    "- Sur VS: option de push\n",
    "- Sur le terminal **`git config push.default current`** # \n",
    "\n",
    "ajouter en remote le dépôt de référence avec le nom conventionnel upstream :\n",
    "- Sur Vs: option de remote\n",
    "- Sur le terminal **`git remote add upstream http://git.example.com/org/example`** et **`git fetch upstream`**"
   ]
  },
  {
   "cell_type": "markdown",
   "metadata": {},
   "source": [
    "On push ensuite classiquement sur notre répertoire origine"
   ]
  },
  {
   "cell_type": "markdown",
   "metadata": {},
   "source": [
    "Et enfin à partir de github on crée une pull request:\n",
    "\n",
    "[How to create a pull request](https://docs.github.com/en/pull-requests/collaborating-with-pull-requests/proposing-changes-to-your-work-with-pull-requests/creating-a-pull-request-from-a-fork\n",
    ")\n"
   ]
  },
  {
   "cell_type": "markdown",
   "metadata": {},
   "source": [
    "**`Exercice`** (par deux)\n",
    "- Créer un dossier sur votre ordinateur \"get_started_git\"\n",
    "- Ajoutez y un fichier hello_world et créer une fonction hello qui prend un parametre. si le parametre est votre prenom la fonction renvoie \"hello votre prenom\" sinon la fonction renvoie \"je ne vous connais pas\"\n",
    "- Faites en un répertoire en ligne.\n",
    "- forker le projet de votre voisin sur votre répertoire\n",
    "- Cloner maintenant le répertoire de votre voision sur votre ordinateur\n",
    "- Créer une branche \"contribution\"\n",
    "- Modifier la fonction hello en ajoutant votre prénom dans les conditions pour qu'il vous salue\n",
    "- commit\n",
    "- pull\n",
    "- créer une pul request\n",
    "- acceptez ensuite la pull request de votre voisin si elle est valable"
   ]
  }
 ],
 "metadata": {
  "interpreter": {
   "hash": "4822798685b95d90cac6b9eac85a216cd3011e561666c6311e8088bbadca8e0f"
  },
  "kernelspec": {
   "display_name": "Python 3.8.6 64-bit ('3.8.6': pyenv)",
   "name": "python3"
  },
  "language_info": {
   "name": "python",
   "version": "3.8.6"
  },
  "orig_nbformat": 4
 },
 "nbformat": 4,
 "nbformat_minor": 2
}
