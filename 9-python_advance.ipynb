{
 "cells": [
  {
   "cell_type": "markdown",
   "metadata": {},
   "source": [
    "# Les compréhension de collection"
   ]
  },
  {
   "cell_type": "markdown",
   "metadata": {},
   "source": [
    "## comprehension de liste"
   ]
  },
  {
   "cell_type": "markdown",
   "metadata": {},
   "source": [
    "La comprehension de liste est une manière de travailler sur les listes"
   ]
  },
  {
   "cell_type": "code",
<<<<<<< HEAD
   "execution_count": 5,
=======
   "execution_count": 26,
>>>>>>> ef3b40d39a63243fee040905d1d18fed612070bc
   "metadata": {},
   "outputs": [
    {
     "name": "stdout",
     "output_type": "stream",
     "text": [
      "[3, 8, 7, 20, 32, 21]\n",
      "[16, 64, 49, 400, 1024, 81, 441]\n",
      "[3, 4, 8, 7, 20, 32, 9, 21]\n"
     ]
    }
   ],
   "source": [
    "ma_liste = [3, -4, 8, 7, 20, 32, -9, 21]\n",
    "\n",
    "liste2 =[]\n",
    "for i in ma_liste:\n",
    "    if i >0:\n",
    "        liste2.append(i)\n",
    "\n",
    "filtre_nombres_positifs = [i for i in ma_liste if i>0]\n",
    "print(filtre_nombres_positifs)\n",
    "# très pratique pour filter\n",
    "\n",
<<<<<<< HEAD
    "# retourner l'enqsemble des carrés de ma liste si leur valeur absolue est supérieure à 3\n",
    "liste_carre = [i**2 for i in ma_liste if abs(i) > 3]\n",
    "print(liste_carre)\n",
=======
    "# retourner l'ensemble des carré de ma liste si leur valeur absolue est supérieure à 3\n",
    "liste_carre = [i**2 for i in ma_liste if abs(i)>3]\n",
    "print(liste_carre)"
   ]
  },
  {
   "cell_type": "markdown",
   "metadata": {},
   "source": [
    "**`Structure générale d'une comprehesion`**:  \n",
    "[[ceux que j'ajoute à ma liste ],[d'ou elle vient(parcours)][condition]]\n",
    "\n",
    "**`Structure générale d'une comprehesion de liste`**:  \n",
    "[[transformation de i],[for ....][condition]]"
   ]
  },
  {
   "cell_type": "code",
   "execution_count": 27,
   "metadata": {},
   "outputs": [
    {
     "name": "stdout",
     "output_type": "stream",
     "text": [
      "[4, 8, 20, 32]\n"
     ]
    }
   ],
   "source": [
    "# Exception quand on utilise else: La condition se met au début\n",
    "ma_liste = [3, -4, 8, 7, 20, 32, -9, 21]\n",
>>>>>>> ef3b40d39a63243fee040905d1d18fed612070bc
    "\n",
    "# on peut également intégrer un else\n",
    "abs_liste = [i if i>0 else -i for i in ma_liste if i%2==0]\n",
    "print(abs_liste)"
   ]
  },
  {
   "cell_type": "markdown",
   "metadata": {},
   "source": [
<<<<<<< HEAD
    "### Structure générale d'une compréhension:\n",
    "[[ce que j'ajoute à ma liste], [d'où elle vient(parcours)][condition]]"
   ]
  },
  {
   "cell_type": "code",
   "execution_count": 6,
   "metadata": {},
   "outputs": [
    {
     "name": "stdout",
     "output_type": "stream",
     "text": [
      "[4, 8, 20, 32]\n"
     ]
    }
   ],
   "source": [
    "# Exception quand on utilise else: La condition se met au début\n",
    "ma_liste = [3, -4, 8, 7, 20, 32, -9, 21]\n",
    "\n",
    "# On peut également intégrer un else\n",
    "abs_liste_pair = [i if i > 0 else -i for i in ma_liste if i % 2 == 0]\n",
    "print(abs_liste_pair)"
   ]
  },
  {
   "cell_type": "markdown",
   "metadata": {},
   "source": [
    "**`Exercice 1`**:   \n",
    "Utilisez la compréhension de liste pour à partir de la liste ma_liste, renvoyer une nouvelle liste ne comprennant seulement les nombres impair se situant juste après les nombres paires positif de cette liste.\n",
=======
    "**`Exercice 1`**: \n",
    "Utilisez la compréhension de liste pour, à partir de la liste ma_liste, renvoyer une nouvelle liste ne comprennant seulement les nombres impair se situant juste après les nombres paires positif de cette liste.\n",
>>>>>>> ef3b40d39a63243fee040905d1d18fed612070bc
    "\n",
    "Exemple \n",
    "- pour : ma_liste = [3, -4, 8, 7, 20, 32, -9, 21]\n",
    "- renvoyer : [9 , 21, 33] "
   ]
  },
  {
   "cell_type": "markdown",
   "metadata": {},
   "source": [
    "**`Exercice 2`**:   \n",
    "Using list comprehension, construct a list from the squares of each element in the list, if the square is greater than 50.  \n",
    "\n",
    "lst1=[2, 4, 6, 8, 10, 12, 14]"
   ]
  },
  {
   "cell_type": "markdown",
   "metadata": {},
   "source": [
    "**`Exercice 3`**:   \n",
    "Create a list from the elements of a range from 1200 to 2000 with steps of 130, using list comprehension.  "
   ]
  },
  {
   "cell_type": "markdown",
   "metadata": {},
   "source": [
    "**`Exercice 4`**:   \n",
    "Given dictionary is consisted of vehicles and their weights in kilograms. Contruct a list of the names of vehicles with weight below 5000 kilograms. In the same list comprehension make the key names all upper case."
   ]
  },
  {
   "cell_type": "markdown",
   "metadata": {},
   "source": [
    "## Comprehension de dicitonnaire"
   ]
  },
  {
   "cell_type": "code",
   "execution_count": 58,
   "metadata": {},
   "outputs": [
    {
     "data": {
      "text/plain": [
       "{'one': 1, 'two': 2, 'three': 3}"
      ]
     },
     "execution_count": 58,
     "metadata": {},
     "output_type": "execute_result"
    }
   ],
   "source": [
    "\"\"\"Il est également possible de faire une compréhension de dictionnaire\"\"\"\n",
    "\n",
    "keys_liste = [\"one\", \"two\", \"three\"]\n",
    "\n",
    "\n",
    "my_dict={keys_liste[i]:i+1 for i in range(0,len(keys_liste))}\n",
    "my_dict\n",
    "\n",
    "my_dict2={}\n",
    "for i in range(0,len(keys_liste)):\n",
    "    my_dict2[keys_liste[i]]= i+1 \n",
    "my_dict2"
   ]
  },
  {
   "cell_type": "markdown",
   "metadata": {},
   "source": [
    "**`Structure générale d'une comprehesion de dictionnaire`**:  \n",
    "[key:value],[for ....][condition]]"
   ]
  },
  {
   "cell_type": "markdown",
   "metadata": {},
   "source": [
    "**`Exercice 1`**:  \n",
    "Create a dictionary from the list with same key:value pairs, such as: {\"key\": \"key\"}."
   ]
  },
  {
   "cell_type": "code",
   "execution_count": 62,
   "metadata": {},
   "outputs": [
    {
     "name": "stdout",
     "output_type": "stream",
     "text": [
      "{'NY': 'NY', 'FL': 'FL', 'CA': 'CA', 'VT': 'VT'}\n"
     ]
    }
   ],
   "source": [
    "lst=[\"NY\", \"FL\", \"CA\", \"VT\"]\n",
    "\n",
    "#Type your answer here.\n",
    "\n",
    "dict={lst[j]:lst[j] for j in range(len(lst))}\n",
    "dict={j:j for j in lst}\n",
    "\n",
    "\n",
    "print(dict)"
   ]
  },
  {
   "cell_type": "markdown",
   "metadata": {},
   "source": [
    "**`Exercice 2`**:   \n",
    "First, create a range from 100 to 160 with steps of 10.\n",
    "Second, using dict comprehension, create a dictionary where each number in the range is the key and each item divided by 100 is the value."
   ]
  },
  {
   "cell_type": "code",
   "execution_count": 64,
   "metadata": {},
   "outputs": [
    {
     "data": {
      "text/plain": [
       "{100: 1.0, 110: 1.1, 120: 1.2, 130: 1.3, 140: 1.4, 150: 1.5}"
      ]
     },
     "execution_count": 64,
     "metadata": {},
     "output_type": "execute_result"
    }
   ],
   "source": [
    "liste = [*range(100,160,10)]\n",
    "\n",
    "dico={i:i/100 for i in liste}\n",
    "dico"
   ]
  },
  {
   "cell_type": "markdown",
   "metadata": {},
   "source": [
    "**`Exercice 3`**:   \n",
    "Using dict comprehension and a conditional argument create a dictionary from the current dictionary where only the key:value pairs with value above 2000 are taken to the new dictionary.\n",
    "\n"
   ]
  },
  {
   "cell_type": "code",
   "execution_count": 67,
   "metadata": {},
   "outputs": [
    {
     "data": {
      "text/plain": [
       "{'NFLX': 4950, 'TREX': 2400}"
      ]
     },
     "execution_count": 67,
     "metadata": {},
     "output_type": "execute_result"
    }
   ],
   "source": [
    "dict1={\"NFLX\":4950,\"TREX\":2400,\"FIZZ\":1800, \"XPO\":1700}\n",
    "\n",
    "dict2={cle:value for cle,value in dict1.items() if value>2000}\n",
    "dict2\n",
    "\n",
    "dict3={cle:dict1[cle] for cle in dict1 if dict1[cle]>2000}\n",
    "dict3"
   ]
  },
  {
   "cell_type": "markdown",
   "metadata": {},
   "source": [
    "**`Exercice 4`**: \n",
    "En utilisant la fonction zip() et la comprehension de dictionnaire, créer un dictionnaire qui prend comme clef les valeurs de la première liste et en valeur les valeurs de la seconde"
   ]
  },
  {
   "cell_type": "code",
   "execution_count": 78,
   "metadata": {},
   "outputs": [
    {
     "name": "stdout",
     "output_type": "stream",
     "text": [
      "[('Netflix', 198), ('Hulu', 166), ('Sling', 237), ('Hbo', 125)]\n",
      "{'Netflix': 198, 'Hulu': 166, 'Sling': 237, 'Hbo': 125}\n",
      "{'Netflix': 198, 'Hulu': 166, 'Sling': 237, 'Hbo': 125}\n"
     ]
    }
   ],
   "source": [
    "lst1=[\"Netflix\", \"Hulu\", \"Sling\", \"Hbo\"]\n",
    "lst2=[198, 166, 237, 125]\n",
    "\n",
    "print(list(zip(lst1,lst2)))\n",
    "\n",
    "dict = {item[0]:item[1] for item in zip(lst1,lst2)}\n",
    "print(dict)\n",
    "\n",
    "dict2 = {i:j for i,j in zip(lst1,lst2) }\n",
    "print(dict2)"
   ]
  },
  {
   "cell_type": "markdown",
   "metadata": {},
   "source": [
    "# Autres fonctions utiles"
   ]
  },
  {
   "cell_type": "markdown",
   "metadata": {},
   "source": [
    "## La fonction zip"
   ]
  },
  {
   "cell_type": "code",
   "execution_count": 91,
   "metadata": {},
   "outputs": [
    {
     "ename": "ValueError",
     "evalue": "too many values to unpack (expected 2)",
     "output_type": "error",
     "traceback": [
      "\u001b[0;31m---------------------------------------------------------------------------\u001b[0m",
      "\u001b[0;31mValueError\u001b[0m                                Traceback (most recent call last)",
      "\u001b[0;32m/var/folders/py/4rt338cj1ks4z3332m7l3f880000gp/T/ipykernel_3083/1918364953.py\u001b[0m in \u001b[0;36m<module>\u001b[0;34m\u001b[0m\n\u001b[1;32m      5\u001b[0m \u001b[0mmon_zip\u001b[0m \u001b[0;34m=\u001b[0m \u001b[0mzip\u001b[0m\u001b[0;34m(\u001b[0m\u001b[0mlst1\u001b[0m\u001b[0;34m,\u001b[0m\u001b[0mlst2\u001b[0m\u001b[0;34m,\u001b[0m\u001b[0mlst3\u001b[0m\u001b[0;34m)\u001b[0m\u001b[0;34m\u001b[0m\u001b[0;34m\u001b[0m\u001b[0m\n\u001b[1;32m      6\u001b[0m \u001b[0;34m\u001b[0m\u001b[0m\n\u001b[0;32m----> 7\u001b[0;31m \u001b[0mliste1\u001b[0m\u001b[0;34m,\u001b[0m\u001b[0mliste2\u001b[0m \u001b[0;34m=\u001b[0m\u001b[0mzip\u001b[0m\u001b[0;34m(\u001b[0m\u001b[0;34m*\u001b[0m\u001b[0mmon_zip\u001b[0m\u001b[0;34m)\u001b[0m\u001b[0;34m\u001b[0m\u001b[0;34m\u001b[0m\u001b[0m\n\u001b[0m\u001b[1;32m      8\u001b[0m \u001b[0mprint\u001b[0m\u001b[0;34m(\u001b[0m\u001b[0mliste1\u001b[0m\u001b[0;34m)\u001b[0m\u001b[0;34m\u001b[0m\u001b[0;34m\u001b[0m\u001b[0m\n",
      "\u001b[0;31mValueError\u001b[0m: too many values to unpack (expected 2)"
     ]
    }
   ],
   "source": [
    "lst1=[\"Netflix\", \"Hulu\", \"Sling\", \"Hbo\"]\n",
    "lst2=[198, 166, 237, 125]\n",
    "lst3=[True,True,False,True]\n",
    "\n",
    "mon_zip = list(zip(lst1,lst2,lst3))\n",
    "print(mon_zip)\n",
    "\n",
    "# liste1,liste2 =zip(*mon_zip)\n",
    "# print(liste1)"
   ]
  },
  {
   "cell_type": "code",
   "execution_count": 90,
   "metadata": {},
   "outputs": [
    {
     "name": "stdout",
     "output_type": "stream",
     "text": [
      "Netflix198\n",
      "Hulu166\n",
      "Hbo125\n"
     ]
    }
   ],
   "source": [
    "def une_fonction(unstring,unint,unbool):\n",
    "    if unbool:\n",
    "        print(unstring + str(unint))\n",
    "\n",
    "# for i in range(len(lst1)):\n",
    "#     une_fonction(lst1[i],lst2[i],lst3[i])\n",
    "\n",
    "for i in zip(lst1,lst2,lst3):\n",
    "    une_fonction(*i)\n"
   ]
  },
  {
   "cell_type": "markdown",
   "metadata": {},
   "source": [
    "## La fonction enumerate"
   ]
  },
  {
   "cell_type": "markdown",
   "metadata": {},
   "source": [
    "Enumerate est une fonction built in qui permet de parcourir une liste et de créer un compteur automatique sur cette liste"
   ]
  },
  {
   "cell_type": "code",
   "execution_count": 114,
   "metadata": {},
   "outputs": [
    {
     "name": "stdout",
     "output_type": "stream",
     "text": [
      "0 apple\n",
      "1 banana\n",
      "2 grapes\n",
      "3 pear\n"
     ]
    }
   ],
   "source": [
    "my_list = ['apple', 'banana', 'grapes', 'pear']\n",
    "\n",
    "for counter, value in enumerate(my_list):\n",
    "    print(counter, value)\n",
    "\n"
   ]
  },
  {
   "cell_type": "markdown",
   "metadata": {},
   "source": [
    "On peut spécifier à quel indice commence enumerate"
   ]
  },
  {
   "cell_type": "code",
   "execution_count": 115,
   "metadata": {},
   "outputs": [
    {
     "name": "stdout",
     "output_type": "stream",
     "text": [
      "1 apple\n",
      "2 banana\n",
      "3 grapes\n",
      "4 pear\n"
     ]
    }
   ],
   "source": [
    "my_list = ['apple', 'banana', 'grapes', 'pear']\n",
    "for c, value in enumerate(my_list, 1):\n",
    "    print(c, value)"
   ]
  },
  {
   "cell_type": "markdown",
   "metadata": {},
   "source": [
    "**`Exercice 1`**:  \n",
    "A l'aide de enumerate et d'une comprehension de dictionnaire, créer un dictionnaire qui prend pour clef une valeur de la liste et comme valeur cette valeur exprimée en integer"
   ]
  },
  {
   "cell_type": "code",
   "execution_count": null,
   "metadata": {},
   "outputs": [],
   "source": [
    "keys_liste = [\"one\", \"two\", \"three\",\"for\",\"five\"]\n"
   ]
  },
  {
   "cell_type": "markdown",
   "metadata": {},
   "source": [
    "**`Exercice 2`**\n",
    "\n",
    "En utilisant la fonction enumerate renvoyer une liste qui rassemble les deux autres listes:"
   ]
  },
  {
   "cell_type": "code",
   "execution_count": null,
   "metadata": {},
   "outputs": [],
   "source": [
    "liste1 = [\"a\", \"b\", \"c\", \"d\"]\n",
    "liste2 = [\"z\", \"y\", \"x\", \"w\"]\n",
    "\n",
    "# liste attendue: [\"az\",\"by\",\"cx\",\"dw\"]"
   ]
  },
  {
   "cell_type": "markdown",
   "metadata": {},
   "source": [
    "#### NB: La fonction zip(*iterable) renvoie un iterable contenant une liste de tuples aggrégeant les iterables donnés en argument"
   ]
  },
  {
   "cell_type": "markdown",
   "metadata": {},
   "source": [
    "# Pass, break and continue"
   ]
  },
  {
   "cell_type": "markdown",
   "metadata": {},
   "source": [
    "### break"
   ]
  },
  {
   "cell_type": "code",
   "execution_count": 92,
   "metadata": {},
   "outputs": [
    {
     "name": "stdout",
     "output_type": "stream",
     "text": [
      "0\n",
      "encore?\n",
      "1\n",
      "encore?\n",
      "2\n",
      "encore?\n",
      "3\n",
      "encore?\n",
      "4\n",
      "encore?\n"
     ]
    }
   ],
   "source": [
    "for i in range(0,5):\n",
    "    print(i)\n",
    "    print(\"encore?\")"
   ]
  },
  {
   "cell_type": "code",
   "execution_count": 94,
   "metadata": {},
   "outputs": [
    {
     "name": "stdout",
     "output_type": "stream",
     "text": [
      "0\n",
      "encore?\n",
      "1\n",
      "encore?\n",
      "2\n",
      "encore?\n",
      "3\n",
      "encore?\n"
     ]
    }
   ],
   "source": [
    "# break arrete la boucle\n",
    "for i in range(0,5):\n",
    "    print(i)\n",
    "    print(\"encore?\")\n",
    "    if i>2:\n",
    "        break\n",
    "\n",
    "# on s'en sert quand on veut arreter un compteur à une certaine position"
   ]
  },
  {
   "cell_type": "markdown",
   "metadata": {},
   "source": [
    "### pass"
   ]
  },
  {
   "cell_type": "code",
   "execution_count": 100,
   "metadata": {},
   "outputs": [
    {
     "name": "stdout",
     "output_type": "stream",
     "text": [
      "0\n",
      "encore?\n",
      "1\n",
      "encore?\n",
      "2\n",
      "encore?\n",
      "3\n",
      "encore?\n",
      "4\n",
      "encore?\n",
      "on est plus que trois\n"
     ]
    }
   ],
   "source": [
    "# pass de fait rien\n",
    "for i in range(0,5):\n",
    "    print(i)\n",
    "    pass\n",
    "    print(\"encore?\")\n",
    "\n",
    "\"\"\"\n",
    "c'est utile par exemple quand on fait du TDD (test driven dev) et qu'on veut définir\n",
    "nos fonctions sans les coder\n",
    "\"\"\"\n",
    "def f(a):\n",
    "    pass\n",
    "\n",
    "#Cela ne me renvoit pas d'erreur\n",
    "f(2)\n",
    "\n",
    "#on peut s'en servir quand on définit des conditions\n",
    "\n",
    "a = 4\n",
    "if a < 3:\n",
    "    pass\n",
    "else:\n",
    "    print(\"on est plus que trois\")\n",
    "\n",
    "if a >= 3:\n",
    "    print(\"on est plus que trois\")"
   ]
  },
  {
   "cell_type": "markdown",
   "metadata": {},
   "source": [
    "### continue"
   ]
  },
  {
   "cell_type": "code",
   "execution_count": 101,
   "metadata": {},
   "outputs": [
    {
     "name": "stdout",
     "output_type": "stream",
     "text": [
      "0\n",
      "1\n",
      "2\n",
      "3\n",
      "4\n"
     ]
    }
   ],
   "source": [
    "#continue stop le tour de boucle, pour le tour, le reste des indications sont ignorées\n",
    "for i in range(0,5):\n",
    "    print(i)\n",
    "    continue\n",
    "    print(\"encore?\")"
   ]
  },
  {
   "cell_type": "code",
   "execution_count": 102,
   "metadata": {},
   "outputs": [
    {
     "name": "stdout",
     "output_type": "stream",
     "text": [
      "0\n",
      "encore?\n",
      "1\n",
      "encore?\n",
      "2\n",
      "3\n",
      "4\n"
     ]
    }
   ],
   "source": [
    "#Autre exemple:\n",
    "for i in range(0,5):\n",
    "    print(i)\n",
    "    if i >= 2:\n",
    "        continue\n",
    "    print(\"encore?\")"
   ]
  },
  {
   "cell_type": "markdown",
   "metadata": {},
   "source": [
    "# Fonction lambda"
   ]
  },
  {
   "cell_type": "markdown",
   "metadata": {},
   "source": [
    "## Usage général"
   ]
  },
  {
   "cell_type": "markdown",
   "metadata": {},
   "source": [
    "On peut définir une fonction anonyme sur une ligne."
   ]
  },
  {
   "cell_type": "code",
   "execution_count": 21,
   "metadata": {},
   "outputs": [
    {
     "name": "stdout",
     "output_type": "stream",
     "text": [
      "6\n"
     ]
    }
   ],
   "source": [
    "# prennons une fonction\n",
    "def f(x):\n",
    "    return x*2\n",
    "    \n",
    "f(3)\n",
    "\n",
    "# on peut la définir sous forme lambda\n",
    "g = lambda x: x*2\n",
    "g(3)\n",
    "\n",
    "# on n'est meme pas obligé de lui donner un nom\n",
    "print((lambda x: x*2)(3))"
   ]
  },
  {
   "cell_type": "markdown",
   "metadata": {},
   "source": [
    "Il faut connaitre les fonctions lambdas car on peut les rencontrer dans des codes.\n",
    "Cependant tout ce qu'on peut faire avec une fonctin lambda, on peut le faire avec une fonction normale et les deux types de déclaration sont identiques en terme de performance.\n",
    "\n",
    "On utilise donc généralement les fonctions lambdas pour des fonctions courtes et qui ne sont utilisées qu'une seule fois dans un code"
   ]
  },
  {
   "cell_type": "markdown",
   "metadata": {},
   "source": [
    "**`Exercice 1`**  \n",
    "Write a lambda function that takes x as parameter and returns x+2. Then assign it to a variable named L."
   ]
  },
  {
   "cell_type": "code",
   "execution_count": null,
   "metadata": {},
   "outputs": [],
   "source": [
    "i=6\n",
    "\n",
    "L=\n",
    "\n",
    "print(L(i))"
   ]
  },
  {
   "cell_type": "markdown",
   "metadata": {},
   "source": [
    "**`Exercice 2`**  \n",
    "Write a function which takes two arguments: a and b and returns the multiplication of them: a*b. Assign it to a variable named: f."
   ]
  },
  {
   "cell_type": "code",
   "execution_count": null,
   "metadata": {},
   "outputs": [],
   "source": [
    "i,j=5,10\n",
    "\n",
    "f=\n",
    "\n",
    "print(f(i, j))"
   ]
  },
  {
   "cell_type": "code",
   "execution_count": null,
   "metadata": {},
   "outputs": [],
   "source": [
    "**`Exercice 3`**  \n",
    "Use the sorted() function to sort the list in ascending order with lambda."
   ]
  },
  {
   "cell_type": "code",
   "execution_count": null,
   "metadata": {},
   "outputs": [],
   "source": [
    "lst=[100, 10, 10000, 1, 9, 999, 99]\n",
    "\n",
    "lst=\n",
    "\n",
    "print(lst)"
   ]
  },
  {
   "cell_type": "markdown",
   "metadata": {},
   "source": [
    "**`Exercice 4`**  \n",
    "Using sorted() function and lambda sort the words in the list based on their second letter from a to z.\n"
   ]
  },
  {
   "cell_type": "code",
   "execution_count": null,
   "metadata": {},
   "outputs": [],
   "source": [
    "lst=[\"otter\", \"whale\", \"goose\", \"chipmunk\", \"fox\", \"sheep\", \"rabbit\", \"marten\"]\n",
    "\n",
    "lst=\n",
    "\n",
    "print(lst)\n"
   ]
  },
  {
   "cell_type": "markdown",
   "metadata": {},
   "source": [
    "## Fonction map"
   ]
  },
  {
   "cell_type": "markdown",
   "metadata": {},
   "source": [
    "Map applique une fonction à tous les éléments d'une liste, c'est donc assez naturel de s'en servir avec une fonction lambda\n",
    "\n",
    "\n",
    "**`Structure générale`** : map(function_to_apply, list_of_inputs)"
   ]
  },
  {
   "cell_type": "code",
   "execution_count": null,
   "metadata": {},
   "outputs": [],
   "source": [
    "items = [1, 2, 3, 4, 5]\n",
    "squared = list(map(lambda x: x**2, items))"
   ]
  },
  {
   "cell_type": "code",
   "execution_count": null,
   "metadata": {},
   "outputs": [],
   "source": [
    "Exercice 1: à l'aide de Map et lambda, ajoutez une majuscule aux éléments de cette liste\n",
    "liste = [\"alpha\", \"beta\", \"gamma\"]\n"
   ]
  },
  {
   "cell_type": "code",
   "execution_count": null,
   "metadata": {},
   "outputs": [],
   "source": [
    "Exercice 2: à l'aide de Map et lambda, renvoyez une liste des arrondis\n",
    "liste = [3.8 , 8.5 , 5.0 , 9.3]"
   ]
  },
  {
   "cell_type": "markdown",
   "metadata": {},
   "source": [
    "## Fonction filter"
   ]
  },
  {
   "cell_type": "markdown",
   "metadata": {},
   "source": [
    "Filter permet de filter les valeurs d'une liste:\n",
    "\n",
    "**`Structure générale`** : filter(fonction_de_filtre, liste_a_filtrer)"
   ]
  },
  {
   "cell_type": "code",
   "execution_count": 59,
   "metadata": {},
   "outputs": [
    {
     "name": "stdout",
     "output_type": "stream",
     "text": [
      "[-5, -4, -3, -2, -1]\n"
     ]
    }
   ],
   "source": [
    "number_list = range(-5, 5)\n",
    "less_than_zero = list(filter(lambda x: x < 0, number_list))\n",
    "print(less_than_zero)"
   ]
  },
  {
   "cell_type": "markdown",
   "metadata": {},
   "source": [
    "**`Exercice 1`**: en une ligne revoyer uniquement les prénoms de 4 lettres ou moins"
   ]
  },
  {
   "cell_type": "code",
   "execution_count": null,
   "metadata": {},
   "outputs": [],
   "source": [
    "liste = [\"Bernard\", \"Fred\", \"Alain\", \"Zoé\", \"Cléroncle\", \"Denis\", \"Paul\"]"
   ]
  },
  {
   "cell_type": "markdown",
   "metadata": {},
   "source": [
    "**`Exercice 2`**: en une ligne revoyer (en utilisant filter et enumerate) uniquement les chiffres dont la première valeurs après la virgule est supérieur  ou égale à 7\n"
   ]
  },
  {
   "cell_type": "code",
   "execution_count": null,
   "metadata": {},
   "outputs": [],
   "source": [
    "liste = [3.789, 34.34, 28.965, 0.22, 4.674, 1098.99]"
   ]
  },
  {
   "cell_type": "markdown",
   "metadata": {},
   "source": [
    "## Fonction reduce"
   ]
  },
  {
   "cell_type": "markdown",
   "metadata": {},
   "source": [
    "Reduce permet d'effectuer une opération sur les éléments d'une liste\n",
    "\n",
    "**`Structure générale`**  \n",
    "reduce(fonction à appliquer, liste)"
   ]
  },
  {
   "cell_type": "code",
   "execution_count": 107,
   "metadata": {},
   "outputs": [
    {
     "data": {
      "text/plain": [
       "24"
      ]
     },
     "execution_count": 107,
     "metadata": {},
     "output_type": "execute_result"
    }
   ],
   "source": [
    "from functools import reduce\n",
    "product = reduce((lambda x, y: x * y), [1, 2, 3, 4])\n",
    "product"
   ]
  },
  {
   "cell_type": "markdown",
   "metadata": {},
   "source": [
    "**`Exercice 1`**:   \n",
    "renvoyer le produit des carrés de la liste suivante"
   ]
  },
  {
   "cell_type": "code",
   "execution_count": null,
   "metadata": {},
   "outputs": [],
   "source": [
    "liste = [2, 4, 6, 8, 10]"
   ]
  },
  {
   "cell_type": "markdown",
   "metadata": {},
   "source": [
    "# Try Except"
   ]
  },
  {
   "cell_type": "code",
   "execution_count": null,
   "metadata": {},
   "outputs": [],
   "source": [
    "Le bloc try except permet de poursuivre l'execution d'un code malgré une erreur"
   ]
  },
  {
   "cell_type": "code",
   "execution_count": 28,
   "metadata": {},
   "outputs": [
    {
     "name": "stdout",
     "output_type": "stream",
     "text": [
      "a est deux fois plus grand que b\n",
      "c'est déja la fin de cette fonction\n"
     ]
    },
    {
     "ename": "TypeError",
     "evalue": "unsupported operand type(s) for /: 'int' and 'str'",
     "output_type": "error",
     "traceback": [
      "\u001b[0;31m---------------------------------------------------------------------------\u001b[0m",
      "\u001b[0;31mTypeError\u001b[0m                                 Traceback (most recent call last)",
      "\u001b[0;32m/var/folders/py/4rt338cj1ks4z3332m7l3f880000gp/T/ipykernel_3083/3104506455.py\u001b[0m in \u001b[0;36m<module>\u001b[0;34m\u001b[0m\n\u001b[1;32m      5\u001b[0m \u001b[0;34m\u001b[0m\u001b[0m\n\u001b[1;32m      6\u001b[0m \u001b[0mdivision1\u001b[0m\u001b[0;34m(\u001b[0m\u001b[0;36m8\u001b[0m\u001b[0;34m,\u001b[0m\u001b[0;36m4\u001b[0m\u001b[0;34m)\u001b[0m\u001b[0;34m\u001b[0m\u001b[0;34m\u001b[0m\u001b[0m\n\u001b[0;32m----> 7\u001b[0;31m \u001b[0mdivision1\u001b[0m\u001b[0;34m(\u001b[0m\u001b[0;36m8\u001b[0m\u001b[0;34m,\u001b[0m\u001b[0;34m\"a\"\u001b[0m\u001b[0;34m)\u001b[0m\u001b[0;34m\u001b[0m\u001b[0;34m\u001b[0m\u001b[0m\n\u001b[0m",
      "\u001b[0;32m/var/folders/py/4rt338cj1ks4z3332m7l3f880000gp/T/ipykernel_3083/3104506455.py\u001b[0m in \u001b[0;36mdivision1\u001b[0;34m(a, b)\u001b[0m\n\u001b[1;32m      1\u001b[0m \u001b[0;32mdef\u001b[0m \u001b[0mdivision1\u001b[0m\u001b[0;34m(\u001b[0m\u001b[0ma\u001b[0m\u001b[0;34m,\u001b[0m\u001b[0mb\u001b[0m\u001b[0;34m)\u001b[0m\u001b[0;34m:\u001b[0m\u001b[0;34m\u001b[0m\u001b[0;34m\u001b[0m\u001b[0m\n\u001b[0;32m----> 2\u001b[0;31m     \u001b[0;32mif\u001b[0m \u001b[0ma\u001b[0m\u001b[0;34m/\u001b[0m\u001b[0mb\u001b[0m \u001b[0;34m>=\u001b[0m \u001b[0;36m2\u001b[0m\u001b[0;34m:\u001b[0m\u001b[0;34m\u001b[0m\u001b[0;34m\u001b[0m\u001b[0m\n\u001b[0m\u001b[1;32m      3\u001b[0m         \u001b[0mprint\u001b[0m\u001b[0;34m(\u001b[0m\u001b[0;34m\"a est deux fois plus grand que b\"\u001b[0m\u001b[0;34m)\u001b[0m\u001b[0;34m\u001b[0m\u001b[0;34m\u001b[0m\u001b[0m\n\u001b[1;32m      4\u001b[0m     \u001b[0mprint\u001b[0m\u001b[0;34m(\u001b[0m\u001b[0;34m\"c'est déja la fin de cette fonction\"\u001b[0m\u001b[0;34m)\u001b[0m\u001b[0;34m\u001b[0m\u001b[0;34m\u001b[0m\u001b[0m\n\u001b[1;32m      5\u001b[0m \u001b[0;34m\u001b[0m\u001b[0m\n",
      "\u001b[0;31mTypeError\u001b[0m: unsupported operand type(s) for /: 'int' and 'str'"
     ]
    }
   ],
   "source": [
    "def division1(a,b):\n",
    "    if a/b >= 2:\n",
    "        print(\"a est deux fois plus grand que b\")\n",
    "    print(\"c'est déja la fin de cette fonction\")\n",
    "\n",
    "division1(8,4)\n",
    "division1(8,\"a\")"
   ]
  },
  {
   "cell_type": "code",
   "execution_count": null,
   "metadata": {},
   "outputs": [],
   "source": [
    "def division3(a,b):\n",
    "    try:\n",
    "        if a/b >= 2:\n",
    "            print(\"a est deux fois plus grand que b\")    \n",
    "    except:\n",
    "        print(\"il y a une erreur dans le code\")\n",
    "    print(\"c'est déja la fin de cette fonction\")\n",
    "\n",
    "print(\"------------division3(8,2)--------------\")\n",
    "division2(8,2)\n",
    "print(\"------------division3(8,'a')------------\")\n",
    "division2(8,\"a\")\n",
    "print(\"------------division3(8,0)--------------\")\n",
    "division2(8,0)"
   ]
  },
  {
   "cell_type": "code",
   "execution_count": 45,
   "metadata": {},
   "outputs": [
    {
     "name": "stdout",
     "output_type": "stream",
     "text": [
      "------------division3(8,2)--------------\n",
      "a est deux fois plus grand que b\n",
      "tout s'est bien passé\n",
      "c'est déja la fin de cette fonction\n",
      "------------division3(8,'a')------------\n",
      "unsupported operand type(s) for /: 'int' and 'str' Les données envoyées ne sont pas du bon type\n",
      "c'est déja la fin de cette fonction\n",
      "------------division3(8,0)--------------\n",
      "division by zero Tu essaies de diviser par 0\n",
      "c'est déja la fin de cette fonction\n"
     ]
    }
   ],
   "source": [
    "def division3(a,b):\n",
    "    try:\n",
    "        if a/b >= 2:\n",
    "            print(\"a est deux fois plus grand que b\")    \n",
    "    except TypeError as e:\n",
    "        print(e ,\"Les données envoyées ne sont pas du bon type\")\n",
    "    except ZeroDivisionError as e:\n",
    "        print(e ,\"Tu essaies de diviser par 0\") \n",
    "    except:\n",
    "        print(\"vous venez de rencontrer une erreur inconnue\")\n",
    "    else:\n",
    "        print(\"tout s'est bien passé\")\n",
    "    finally:   \n",
    "        print(\"c'est déja la fin de cette fonction\")\n",
    "\n",
    "print(\"------------division3(8,2)--------------\")\n",
    "division3(8,2)\n",
    "print(\"------------division3(8,'a')------------\")\n",
    "division3(8,\"a\")\n",
    "print(\"------------division3(8,0)--------------\")\n",
    "division3(8,0)"
   ]
  },
  {
   "cell_type": "code",
   "execution_count": null,
   "metadata": {},
   "outputs": [],
   "source": [
    "# try except dans la vraie vie:\n",
    "\n",
    "try:\n",
    "    with open(path_to_file,\"r\") as f:\n",
    "        preview = f.readline()\n",
    "        print(\"Yeah! We managed to read the file. Here is a preview:\")\n",
    "        print(preview)\n",
    "except FileNotFoundError as e:\n",
    "    print(\"Ow :( The file was not found. Here is the original message of the exception :\", e)\n",
    "except:\n",
    "    print('Destination unknown')"
   ]
  }
 ],
 "metadata": {
  "interpreter": {
   "hash": "4822798685b95d90cac6b9eac85a216cd3011e561666c6311e8088bbadca8e0f"
  },
  "kernelspec": {
   "display_name": "Python 3.8.6 64-bit ('3.8.6': pyenv)",
   "name": "python3"
  },
  "language_info": {
   "codemirror_mode": {
    "name": "ipython",
    "version": 3
   },
   "file_extension": ".py",
   "mimetype": "text/x-python",
   "name": "python",
   "nbconvert_exporter": "python",
   "pygments_lexer": "ipython3",
   "version": "3.8.8"
  },
  "orig_nbformat": 4
 },
 "nbformat": 4,
 "nbformat_minor": 2
}
