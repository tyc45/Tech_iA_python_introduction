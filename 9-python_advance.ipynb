{
 "cells": [
  {
   "cell_type": "markdown",
   "metadata": {},
   "source": [
    "# Les compréhension de collection"
   ]
  },
  {
   "cell_type": "markdown",
   "metadata": {},
   "source": [
    "## comprehension de liste"
   ]
  },
  {
   "cell_type": "markdown",
   "metadata": {},
   "source": [
    "La comprehension de liste est une manière de travaille sur les listes"
   ]
  },
  {
   "cell_type": "code",
   "execution_count": null,
   "metadata": {},
   "outputs": [
    {
     "name": "stdout",
     "output_type": "stream",
     "text": [
      "[3, 8, 7, 20, 32, 21]\n",
      "[3, 4, 8, 7, 20, 32, 9, 21]\n"
     ]
    }
   ],
   "source": [
    "ma_liste = [3, -4, 8, 7, 20, 32, -9, 21]\n",
    "filtre_nombres_positifs = [i for i in ma_liste if i>0]\n",
    "print(filtre_nombres_positifs)\n",
    "# très pratique pour filter\n",
    "\n",
    "# on peut également intégrer un else\n",
    "abs_liste = [i if i>0 else -i for i in ma_liste ]\n",
    "print(abs_liste)"
   ]
  },
  {
   "cell_type": "markdown",
   "metadata": {},
   "source": [
    "**`Exercice 1`**:   \n",
    "Utilisez la compréhension de liste pour à partir de la liste ma_liste, renvoyer une nouvelle liste ne comprennant seulement les nombres impair se situant juste après les nombres paires positif de cette liste.\n",
    "\n",
    "Exemple \n",
    "- pour : ma_liste = [3, -4, 8, 7, 20, 32, -9, 21]\n",
    "- renvoyer : [9 , 21, 33] "
   ]
  },
  {
   "cell_type": "markdown",
   "metadata": {},
   "source": [
    "**`Exercice 2`**:   \n",
    "Using list comprehension, construct a list from the squares of each element in the list, if the square is greater than 50.  \n",
    "\n",
    "lst1=[2, 4, 6, 8, 10, 12, 14]"
   ]
  },
  {
   "cell_type": "markdown",
   "metadata": {},
   "source": [
    "**`Exercice 3`**:   \n",
    "Create a list from the elements of a range from 1200 to 2000 with steps of 130, using list comprehension.  "
   ]
  },
  {
   "cell_type": "markdown",
   "metadata": {},
   "source": [
    "**`Exercice 4`**:   \n",
    "Given dictionary is consisted of vehicles and their weights in kilograms. Contruct a list of the names of vehicles with weight below 5000 kilograms. In the same list comprehension make the key names all upper case."
   ]
  },
  {
   "cell_type": "markdown",
   "metadata": {},
   "source": [
    "## Comprehension de dicitonnaire"
   ]
  },
  {
   "cell_type": "code",
   "execution_count": 6,
   "metadata": {},
   "outputs": [
    {
     "data": {
      "text/plain": [
       "{'one': 1, 'two': 2, 'three': 3}"
      ]
     },
     "execution_count": 6,
     "metadata": {},
     "output_type": "execute_result"
    }
   ],
   "source": [
    "\"\"\"Il est également possible de faire une compréhension de dictionnaire\"\"\"\n",
    "\n",
    "keys_liste = [\"one\", \"two\", \"three\"]\n",
    "my_dict={keys_liste[i]:i+1 for i in range(0,len(keys_liste))}\n",
    "my_dict"
   ]
  },
  {
   "cell_type": "markdown",
   "metadata": {},
   "source": [
    "**`Exercice 1`**:  \n",
    "Create a dictionary from the list with same key:value pairs, such as: {\"key\": \"key\"}."
   ]
  },
  {
   "cell_type": "code",
   "execution_count": null,
   "metadata": {},
   "outputs": [],
   "source": [
    "lst=[\"NY\", \"FL\", \"CA\", \"VT\"]\n",
    "\n",
    "#Type your answer here.\n",
    "\n",
    "dict={}\n",
    "\n",
    "\n",
    "print(dict)"
   ]
  },
  {
   "cell_type": "markdown",
   "metadata": {},
   "source": [
    "**`Exercice 2`**:   \n",
    "First, create a range from 100 to 160 with steps of 10.\n",
    "Second, using dict comprehension, create a dictionary where each number in the range is the key and each item divided by 100 is the value."
   ]
  },
  {
   "cell_type": "markdown",
   "metadata": {},
   "source": [
    "**`Exercice 3`**:   \n",
    "Using dict comprehension and a conditional argument create a dictionary from the current dictionary where only the key:value pairs with value above 2000 are taken to the new dictionary.\n",
    "\n"
   ]
  },
  {
   "cell_type": "code",
   "execution_count": null,
   "metadata": {},
   "outputs": [],
   "source": [
    "dict1={\"NFLX\":4950,\"TREX\":2400,\"FIZZ\":1800, \"XPO\":1700}"
   ]
  },
  {
   "cell_type": "markdown",
   "metadata": {},
   "source": [
    "**`Exercice 4`**: \n",
    "En utilisant la fonction zip() et la comprehension de dictionnaire, créer un dictionnaire qui prend comme clef les valeurs de la première liste et en valeur les valeurs de la seconde"
   ]
  },
  {
   "cell_type": "code",
   "execution_count": null,
   "metadata": {},
   "outputs": [],
   "source": [
    "lst1=[\"Netflix\", \"Hulu\", \"Sling\", \"Hbo\"]\n",
    "lst2=[198, 166, 237, 125]"
   ]
  },
  {
   "cell_type": "markdown",
   "metadata": {},
   "source": [
    "# Pass, break and continue"
   ]
  },
  {
   "cell_type": "markdown",
   "metadata": {},
   "source": [
    "### break"
   ]
  },
  {
   "cell_type": "code",
   "execution_count": 8,
   "metadata": {},
   "outputs": [
    {
     "name": "stdout",
     "output_type": "stream",
     "text": [
      "0\n",
      "encore?\n",
      "1\n",
      "encore?\n",
      "2\n",
      "encore?\n",
      "3\n",
      "encore?\n",
      "4\n",
      "encore?\n"
     ]
    }
   ],
   "source": [
    "for i in range(0,5):\n",
    "    print(i)\n",
    "    print(\"encore?\")"
   ]
  },
  {
   "cell_type": "code",
   "execution_count": 9,
   "metadata": {},
   "outputs": [
    {
     "name": "stdout",
     "output_type": "stream",
     "text": [
      "0\n",
      "encore?\n"
     ]
    }
   ],
   "source": [
    "# break arrete la boucle\n",
    "for i in range(0,5):\n",
    "    print(i)\n",
    "    print(\"encore?\")\n",
    "    break\n",
    "\n",
    "# on s'en sert quand on veut arreter un compteur à une certaine position"
   ]
  },
  {
   "cell_type": "markdown",
   "metadata": {},
   "source": [
    "### pass"
   ]
  },
  {
   "cell_type": "code",
   "execution_count": 12,
   "metadata": {},
   "outputs": [
    {
     "name": "stdout",
     "output_type": "stream",
     "text": [
      "0\n",
      "encore?\n",
      "1\n",
      "encore?\n",
      "2\n",
      "encore?\n",
      "3\n",
      "encore?\n",
      "4\n",
      "encore?\n"
     ]
    }
   ],
   "source": [
    "# pass de fait rien\n",
    "for i in range(0,5):\n",
    "    print(i)\n",
    "    pass\n",
    "    print(\"encore?\")\n",
    "\n",
    "\"\"\"\n",
    "c'est utile par exemple quand on fait du TDD (test driven dev) et qu'on veut définir\n",
    "nos fonctions sans les coder\n",
    "\"\"\"\n",
    "def f(a):\n",
    "    pass\n",
    "\n",
    "#Cela ne me renvoit pas d'erreur\n",
    "f(2)\n",
    "\n",
    "#on peut s'en servir quand on définit des conditions\n",
    "\n",
    "if a < 3:\n",
    "    pass\n",
    "else:\n",
    "    print(\"on est plus que trois\")"
   ]
  },
  {
   "cell_type": "markdown",
   "metadata": {},
   "source": [
    "### continue"
   ]
  },
  {
   "cell_type": "code",
   "execution_count": 11,
   "metadata": {},
   "outputs": [
    {
     "name": "stdout",
     "output_type": "stream",
     "text": [
      "0\n",
      "1\n",
      "2\n",
      "3\n",
      "4\n"
     ]
    }
   ],
   "source": [
    "#continue stop le tour de boucle, pour le tour, le reste des indications sont ignorées\n",
    "for i in range(0,5):\n",
    "    print(i)\n",
    "    continue\n",
    "    print(\"encore?\")"
   ]
  },
  {
   "cell_type": "code",
   "execution_count": 15,
   "metadata": {},
   "outputs": [
    {
     "name": "stdout",
     "output_type": "stream",
     "text": [
      "0\n",
      "encore?\n",
      "1\n",
      "encore?\n",
      "2\n",
      "3\n",
      "4\n"
     ]
    }
   ],
   "source": [
    "#Autre exemple:\n",
    "for i in range(0,5):\n",
    "    print(i)\n",
    "    if i >= 2:\n",
    "        continue\n",
    "    print(\"encore?\")"
   ]
  },
  {
   "cell_type": "markdown",
   "metadata": {},
   "source": [
    "## Fonction lambda"
   ]
  },
  {
   "cell_type": "code",
   "execution_count": null,
   "metadata": {},
   "outputs": [],
   "source": [
    "On peut définir une fonction anonyme sur une ligne."
   ]
  },
  {
   "cell_type": "code",
   "execution_count": 21,
   "metadata": {},
   "outputs": [
    {
     "name": "stdout",
     "output_type": "stream",
     "text": [
      "6\n"
     ]
    }
   ],
   "source": [
    "# prennons une fonction\n",
    "def f(x):\n",
    "    return x*2\n",
    "    \n",
    "f(3)\n",
    "\n",
    "# on peut la définir sous forme lambda\n",
    "g = lambda x: x*2\n",
    "g(3)\n",
    "\n",
    "# on n'est meme pas obligé de lui donner un nom\n",
    "print((lambda x: x*2)(3))"
   ]
  },
  {
   "cell_type": "markdown",
   "metadata": {},
   "source": [
    "Il faut connaitre les fonctions lambdas car on peut les rencontrer dans des codes.\n",
    "Cependant tout ce qu'on peut faire avec une fonctin lambda, on peut le faire avec une fonction normale et les deux types de déclaration sont identiques en terme de performance.\n",
    "\n",
    "On utilise donc généralement les fonctions lambdas pour des fonctions courtes et qui ne sont utilisées qu'une seule fois dans un code"
   ]
  },
  {
   "cell_type": "markdown",
   "metadata": {},
   "source": [
    "**`Exercice 1`**  \n",
    "Write a lambda function that takes x as parameter and returns x+2. Then assign it to a variable named L."
   ]
  },
  {
   "cell_type": "code",
   "execution_count": null,
   "metadata": {},
   "outputs": [],
   "source": [
    "i=6\n",
    "\n",
    "L=\n",
    "\n",
    "print(L(i))"
   ]
  },
  {
   "cell_type": "markdown",
   "metadata": {},
   "source": [
    "**`Exercice 2`**  \n",
    "Write a function which takes two arguments: a and b and returns the multiplication of them: a*b. Assign it to a variable named: f."
   ]
  },
  {
   "cell_type": "code",
   "execution_count": null,
   "metadata": {},
   "outputs": [],
   "source": [
    "i,j=5,10\n",
    "\n",
    "f=\n",
    "\n",
    "print(f(i, j))"
   ]
  },
  {
   "cell_type": "code",
   "execution_count": null,
   "metadata": {},
   "outputs": [],
   "source": [
    "**`Exercice 3`**  \n",
    "Use the sorted() function to sort the list in ascending order with lambda."
   ]
  },
  {
   "cell_type": "code",
   "execution_count": null,
   "metadata": {},
   "outputs": [],
   "source": [
    "lst=[100, 10, 10000, 1, 9, 999, 99]\n",
    "\n",
    "lst=\n",
    "\n",
    "print(lst)"
   ]
  },
  {
   "cell_type": "markdown",
   "metadata": {},
   "source": [
    "**`Exercice 4`**  \n",
    "Using sorted() function and lambda sort the words in the list based on their second letter from a to z.\n"
   ]
  },
  {
   "cell_type": "code",
   "execution_count": null,
   "metadata": {},
   "outputs": [],
   "source": [
    "lst=[\"otter\", \"whale\", \"goose\", \"chipmunk\", \"fox\", \"sheep\", \"rabbit\", \"marten\"]\n",
    "\n",
    "lst=\n",
    "\n",
    "print(lst)\n"
   ]
  },
  {
   "cell_type": "code",
   "execution_count": null,
   "metadata": {},
   "outputs": [],
   "source": []
  },
  {
   "cell_type": "code",
   "execution_count": null,
   "metadata": {},
   "outputs": [],
   "source": []
  }
 ],
 "metadata": {
  "interpreter": {
   "hash": "4822798685b95d90cac6b9eac85a216cd3011e561666c6311e8088bbadca8e0f"
  },
  "kernelspec": {
   "display_name": "Python 3.8.6 64-bit ('3.8.6': pyenv)",
   "name": "python3"
  },
  "language_info": {
   "codemirror_mode": {
    "name": "ipython",
    "version": 3
   },
   "file_extension": ".py",
   "mimetype": "text/x-python",
   "name": "python",
   "nbconvert_exporter": "python",
   "pygments_lexer": "ipython3",
   "version": "3.8.6"
  },
  "orig_nbformat": 4
 },
 "nbformat": 4,
 "nbformat_minor": 2
}
