{
 "cells": [
  {
   "cell_type": "code",
   "execution_count": 3,
   "metadata": {},
   "outputs": [
    {
     "name": "stdout",
     "output_type": "stream",
     "text": [
      "hello world\n"
     ]
    }
   ],
   "source": [
    "print(\"hello world\")"
   ]
  },
  {
   "cell_type": "markdown",
   "metadata": {},
   "source": [
    "Ceci est un commentaire en markdown"
   ]
  },
  {
   "cell_type": "code",
   "execution_count": 5,
   "metadata": {},
   "outputs": [
    {
     "name": "stdout",
     "output_type": "stream",
     "text": [
      "hello world 2\n"
     ]
    }
   ],
   "source": [
    "print(\"hello world 2\")"
   ]
  },
  {
   "cell_type": "markdown",
   "metadata": {},
   "source": [
    "1. enter: enter cell\n",
    "2. esc: exit current cell\n",
    "3. a: create new cell above\n",
    "4. b: create new cell bellow\n",
    "5. dd: delete selected cell\n",
    "6. z: ctrl+z"
   ]
  },
  {
   "cell_type": "code",
   "execution_count": null,
   "metadata": {},
   "outputs": [],
   "source": [
    "# Commentaire\n",
    "# Ligne\n",
    "# à ligne\n",
    "\n",
    "\"\"\" Commentaire\n",
    "multi ligne (dock string)\n",
    "!!!!\"\"\""
   ]
  },
  {
   "cell_type": "code",
   "execution_count": null,
   "metadata": {},
   "outputs": [],
   "source": [
    "# Règles Pep8\n",
    "\n",
    "# Pep 8 sur les commentaires.\n",
    "# Ecrivez des phrases complètes, ponctuées et compréhensibles.\n",
    "# Le commentaire doit être cohérent avec le code.\n",
    "# Il doit suivre la même indentation que le code qu'il commente.\n",
    "# Evitez d'enfoncer des portes ouvertes : ne décrivez pas le code, expliquez plutôt à quoi il sert.\n",
    "# Il doit être en anglais.\n",
    "\n",
    "\"\"\"\n",
    "Règles Pep8\n",
    "\n",
    "Pep 8 sur les commentaires.\n",
    "Ecrivez des phrases complètes, ponctuées et compréhensibles.\n",
    "Le commentaire doit être cohérent avec le code.\n",
    "Il doit suivre la même indentation que le code qu'il commente.\n",
    "Evitez d'enfoncer des portes ouvertes : ne décrivez pas le code, expliquez plutôt à quoi il sert.\n",
    "Il doit être en anglais.\"\"\""
   ]
  },
  {
   "cell_type": "markdown",
   "metadata": {},
   "source": [
    "# **Règles Pep8**\n",
    "---\n",
    "- Pep 8 sur les **commentaires**.\n",
    "- Ecrivez des phrases **complètes**, **ponctuées** - et **compréhensibles**.\n",
    "- Le commentaire doit être **cohérent** avec le code.\n",
    "- Il doit suivre la même **indentation** que le code qu'il commente.\n",
    "- Evitez d'enfoncer des portes ouvertes : **ne décrivez pas** le code, **expliquez** plutôt à quoi il sert.\n",
    "- Il doit être en **anglais**."
   ]
  }
 ],
 "metadata": {
  "interpreter": {
   "hash": "7754f1c53bb33bd820706ba8feb51581fc4f65eb5997df896d4d8e79960a24e5"
  },
  "kernelspec": {
   "display_name": "Python 3.8.8 64-bit ('base': conda)",
   "name": "python3"
  },
  "language_info": {
   "codemirror_mode": {
    "name": "ipython",
    "version": 3
   },
   "file_extension": ".py",
   "mimetype": "text/x-python",
   "name": "python",
   "nbconvert_exporter": "python",
   "pygments_lexer": "ipython3",
   "version": "3.8.8"
  },
  "orig_nbformat": 4
 },
 "nbformat": 4,
 "nbformat_minor": 2
}
